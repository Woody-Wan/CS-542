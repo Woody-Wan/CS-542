{
  "cells": [
    {
      "cell_type": "markdown",
      "metadata": {
        "id": "view-in-github",
        "colab_type": "text"
      },
      "source": [
        "<a href=\"https://colab.research.google.com/github/Woody-Wan/CS-542/blob/main/task2_template_InceptionResNetV2.ipynb\" target=\"_parent\"><img src=\"https://colab.research.google.com/assets/colab-badge.svg\" alt=\"Open In Colab\"/></a>"
      ]
    },
    {
      "cell_type": "markdown",
      "metadata": {
        "nbpresent": {
          "id": "1d234e3f-af8b-4757-83f3-241b04b7a511"
        },
        "id": "MH5Hy2yY4RFh"
      },
      "source": [
        "# Class Challenge: Image Classification of COVID-19 X-rays\n",
        "# Task 2 [Total points: 30]"
      ]
    },
    {
      "cell_type": "markdown",
      "metadata": {
        "nbpresent": {
          "id": "b07b9992-b592-4871-9f9a-3b0ae5fa8b5f"
        },
        "id": "pNy2EuS04RFl"
      },
      "source": [
        "## Setup\n",
        "\n",
        "* This assignment involves the following packages: 'matplotlib', 'numpy', and 'sklearn'. \n",
        "\n",
        "* If you are using conda, use the following commands to install the above packages:<br>\n",
        "```shell\n",
        "conda install matplotlib\n",
        "conda install numpy\n",
        "conda install -c anaconda scikit-learn\n",
        "```\n",
        "\n",
        "* If you are using pip, use use the following commands to install the above packages: <br> \n",
        "```shell\n",
        "pip install matplotlib\n",
        "pip install numpy\n",
        "pip install sklearn\n",
        "```"
      ]
    },
    {
      "cell_type": "markdown",
      "metadata": {
        "nbpresent": {
          "id": "5516f610-f00c-43c3-bf19-4cf7ab9c089f"
        },
        "id": "oIxlwrNW4RFm"
      },
      "source": [
        "## Data\n",
        "\n",
        "Please download the data using the following link: [COVID-19](https://drive.google.com/file/d/1Y88tgqpQ1Pjko_7rntcPowOJs_QNOrJ-/view). \n",
        "\n",
        "* After downloading 'Covid_Data_GradientCrescent.zip', unzip the file and you should see the following data structure:\n",
        "\n",
        "\n",
        "|--all<br>\n",
        "|--------train<br>\n",
        "|--------test<br>\n",
        "|--two<br>\n",
        "|--------train<br>\n",
        "|--------test<br>\n",
        "\n",
        "\n",
        "* Put the 'all' folder, the 'two' folder and this python notebook in the **same directory** so that the following code can correctly locate the data.  \n",
        "\n"
      ]
    },
    {
      "cell_type": "markdown",
      "metadata": {
        "nbpresent": {
          "id": "66140980-2aa4-457f-b1df-74c10c234cc2"
        },
        "id": "l62ntiEc4RFm"
      },
      "source": [
        "## [20 points] Multi-class Classification"
      ]
    },
    {
      "cell_type": "code",
      "execution_count": null,
      "metadata": {
        "nbpresent": {
          "id": "5e05f980-3d14-4367-b3d1-664249145b13"
        },
        "scrolled": true,
        "id": "Sx6pHlEE4RFn",
        "outputId": "23a83c56-422b-4238-ef3b-04723427e2f5"
      },
      "outputs": [
        {
          "data": {
            "text/plain": [
              "'2.8.0'"
            ]
          },
          "execution_count": 1,
          "metadata": {},
          "output_type": "execute_result"
        }
      ],
      "source": [
        "import os\n",
        "\n",
        "import tensorflow as tf\n",
        "import numpy as np\n",
        "import matplotlib.pyplot as plt\n",
        "from tensorflow.keras.preprocessing.image import ImageDataGenerator\n",
        "\n",
        "os.environ['OMP_NUM_THREADS'] = '1'\n",
        "os.environ['CUDA_VISIBLE_DEVICES'] = '-1'\n",
        "tf.__version__"
      ]
    },
    {
      "cell_type": "markdown",
      "metadata": {
        "nbpresent": {
          "id": "66140980-2aa4-457f-b1df-74c10c234cc2"
        },
        "id": "0tT9J7YA4RFp"
      },
      "source": [
        "#### Load Image Data"
      ]
    },
    {
      "cell_type": "code",
      "execution_count": null,
      "metadata": {
        "nbpresent": {
          "id": "58317664-8da3-4283-b3e5-35721687e7ab"
        },
        "id": "bsM8JnKM4RFq"
      },
      "outputs": [],
      "source": [
        "DATA_LIST = os.listdir('D:/Workspace/CS542/Class Challenge/Covid_Data_GradientCrescent/all')\n",
        "DATASET_PATH  = 'D:/Workspace/CS542/Class Challenge/Covid_Data_GradientCrescent/all/train'\n",
        "TEST_DIR =  'D:/Workspace/CS542/Class Challenge/Covid_Data_GradientCrescent/all/test'\n",
        "IMAGE_SIZE    = (224, 224)\n",
        "NUM_CLASSES   = len(DATA_LIST)\n",
        "BATCH_SIZE    = 24  # try reducing batch size or freeze more layers if your GPU runs out of memory\n",
        "NUM_EPOCHS    = 150\n",
        "LEARNING_RATE = 0.0005 # start off with high rate first 0.001 and experiment with reducing it gradually "
      ]
    },
    {
      "cell_type": "markdown",
      "metadata": {
        "nbpresent": {
          "id": "66140980-2aa4-457f-b1df-74c10c234cc2"
        },
        "id": "lhEsFXX-4RFr"
      },
      "source": [
        "#### Generate Training and Validation Batches"
      ]
    },
    {
      "cell_type": "code",
      "execution_count": null,
      "metadata": {
        "nbpresent": {
          "id": "71760e29-2b08-4259-93f1-ebe68cd74a6d"
        },
        "id": "gLi0y4VV4RFr",
        "outputId": "7bd5db33-8618-4070-a7d7-171a997787c6"
      },
      "outputs": [
        {
          "name": "stdout",
          "output_type": "stream",
          "text": [
            "Found 216 images belonging to 4 classes.\n",
            "Found 54 images belonging to 4 classes.\n"
          ]
        },
        {
          "name": "stderr",
          "output_type": "stream",
          "text": [
            "C:\\Users\\woody\\AppData\\Local\\Programs\\Python\\Python310\\lib\\site-packages\\keras_preprocessing\\image\\image_data_generator.py:342: UserWarning: This ImageDataGenerator specifies `zca_whitening` which overrides setting of`featurewise_std_normalization`.\n",
            "  warnings.warn('This ImageDataGenerator specifies '\n"
          ]
        }
      ],
      "source": [
        "train_datagen = ImageDataGenerator(rescale=1./255,rotation_range=50,featurewise_center = True,\n",
        "                                   featurewise_std_normalization = True,width_shift_range=0.2,\n",
        "                                   height_shift_range=0.2,shear_range=0.25,zoom_range=0.1,\n",
        "                                   zca_whitening = True,channel_shift_range = 20,\n",
        "                                   horizontal_flip = True,vertical_flip = True,\n",
        "                                   validation_split = 0.2,fill_mode='constant')\n",
        "\n",
        "\n",
        "train_batches = train_datagen.flow_from_directory(DATASET_PATH,target_size=IMAGE_SIZE,\n",
        "                                                  shuffle=True,batch_size=BATCH_SIZE,\n",
        "                                                  subset = \"training\",seed=42,\n",
        "                                                  class_mode=\"categorical\")\n",
        "\n",
        "valid_batches = train_datagen.flow_from_directory(DATASET_PATH,target_size=IMAGE_SIZE,\n",
        "                                                  shuffle=True,batch_size=BATCH_SIZE,\n",
        "                                                  subset = \"validation\",\n",
        "                                                  seed=42,class_mode=\"categorical\")"
      ]
    },
    {
      "cell_type": "markdown",
      "metadata": {
        "nbpresent": {
          "id": "66140980-2aa4-457f-b1df-74c10c234cc2"
        },
        "id": "s5XoB0N54RFs"
      },
      "source": [
        "#### [10 points] Build Model\n",
        "Hint: Starting from a pre-trained model typically helps performance on a new task, e.g. starting with weights obtained by training on ImageNet. "
      ]
    },
    {
      "cell_type": "code",
      "execution_count": null,
      "metadata": {
        "nbpresent": {
          "id": "5c52eeb2-1092-4d45-9e16-02219c82cb5e"
        },
        "id": "UIRg0qXL4RFs",
        "outputId": "125904fd-868b-40e0-c845-5a0d186f5ef3"
      },
      "outputs": [
        {
          "name": "stdout",
          "output_type": "stream",
          "text": [
            "Model: \"sequential\"\n",
            "_________________________________________________________________\n",
            " Layer (type)                Output Shape              Param #   \n",
            "=================================================================\n",
            " inception_resnet_v2 (Functi  (None, 5, 5, 1536)       54336736  \n",
            " onal)                                                           \n",
            "                                                                 \n",
            " flatten (Flatten)           (None, 38400)             0         \n",
            "                                                                 \n",
            " dense (Dense)               (None, 256)               9830656   \n",
            "                                                                 \n",
            " dropout (Dropout)           multiple                  0         \n",
            "                                                                 \n",
            " dense_1 (Dense)             (None, 128)               32896     \n",
            "                                                                 \n",
            " dense_2 (Dense)             (None, 4)                 516       \n",
            "                                                                 \n",
            "=================================================================\n",
            "Total params: 64,200,804\n",
            "Trainable params: 9,864,068\n",
            "Non-trainable params: 54,336,736\n",
            "_________________________________________________________________\n"
          ]
        }
      ],
      "source": [
        "InceptionResNetV2 = tf.keras.applications.InceptionResNetV2(input_shape = (224, 224, 3),\n",
        "                                               include_top=False,\n",
        "                                               weights='imagenet',\n",
        "                                               classifier_activation = None)\n",
        "InceptionResNetV2.trainable = False\n",
        "flatten_1 = tf.keras.layers.Flatten()\n",
        "dense_feature_1 = tf.keras.layers.Dense(256, kernel_regularizer='l2')\n",
        "dense_feature_2 = tf.keras.layers.Dense(128, kernel_regularizer='l2')\n",
        "Dropout = tf.keras.layers.Dropout(0.5)\n",
        "dense_1 = tf.keras.layers.Dense(4)\n",
        "\n",
        "\n",
        "model = tf.keras.Sequential([\n",
        "  InceptionResNetV2,\n",
        "  flatten_1,\n",
        "  dense_feature_1,\n",
        "  Dropout,\n",
        "  dense_feature_2,\n",
        "  Dropout,\n",
        "  dense_1,\n",
        "])\n",
        "\n",
        "model_lowest_loss = model\n",
        "model.summary()\n"
      ]
    },
    {
      "cell_type": "markdown",
      "metadata": {
        "nbpresent": {
          "id": "66140980-2aa4-457f-b1df-74c10c234cc2"
        },
        "id": "HKIBEfU54RFt"
      },
      "source": [
        "#### [5 points] Train Model"
      ]
    },
    {
      "cell_type": "code",
      "execution_count": null,
      "metadata": {
        "nbpresent": {
          "id": "cdb90d24-6a23-4969-8138-f37e7050062d"
        },
        "id": "MWhT3fET4RFt",
        "outputId": "44bc3d6e-021f-4146-ab82-5ae819e78fdf"
      },
      "outputs": [
        {
          "name": "stdout",
          "output_type": "stream",
          "text": [
            "9\n",
            "3\n"
          ]
        },
        {
          "name": "stderr",
          "output_type": "stream",
          "text": [
            "C:\\Users\\woody\\AppData\\Local\\Programs\\Python\\Python310\\lib\\site-packages\\keras_preprocessing\\image\\image_data_generator.py:720: UserWarning: This ImageDataGenerator specifies `featurewise_center`, but it hasn't been fit on any training data. Fit it first by calling `.fit(numpy_data)`.\n",
            "  warnings.warn('This ImageDataGenerator specifies '\n",
            "C:\\Users\\woody\\AppData\\Local\\Programs\\Python\\Python310\\lib\\site-packages\\keras_preprocessing\\image\\image_data_generator.py:739: UserWarning: This ImageDataGenerator specifies `zca_whitening`, but it hasn't been fit on any training data. Fit it first by calling `.fit(numpy_data)`.\n",
            "  warnings.warn('This ImageDataGenerator specifies '\n"
          ]
        },
        {
          "name": "stdout",
          "output_type": "stream",
          "text": [
            "Epoch 1/150\n",
            "9/9 [==============================] - 115s 7s/step - loss: 54.7431 - accuracy: 0.3241 - val_loss: 39.4708 - val_accuracy: 0.3125 - lr: 5.0000e-04\n",
            "Epoch 2/150\n",
            "9/9 [==============================] - 42s 5s/step - loss: 53.5017 - accuracy: 0.3796 - val_loss: 25.5833 - val_accuracy: 0.5000 - lr: 5.0000e-04\n",
            "Epoch 3/150\n",
            "9/9 [==============================] - 35s 4s/step - loss: 48.2682 - accuracy: 0.3889 - val_loss: 31.8564 - val_accuracy: 0.5000 - lr: 5.0000e-04\n",
            "Epoch 4/150\n",
            "9/9 [==============================] - 37s 4s/step - loss: 40.9198 - accuracy: 0.4861 - val_loss: 34.8916 - val_accuracy: 0.5000 - lr: 5.0000e-04\n",
            "Epoch 5/150\n",
            "9/9 [==============================] - 41s 5s/step - loss: 33.6767 - accuracy: 0.5185 - val_loss: 23.4625 - val_accuracy: 0.5417 - lr: 5.0000e-04\n",
            "Epoch 6/150\n",
            "9/9 [==============================] - 39s 4s/step - loss: 34.8825 - accuracy: 0.5787 - val_loss: 18.3399 - val_accuracy: 0.6458 - lr: 5.0000e-04\n",
            "Epoch 7/150\n",
            "9/9 [==============================] - 39s 4s/step - loss: 33.1057 - accuracy: 0.5648 - val_loss: 15.1947 - val_accuracy: 0.7708 - lr: 5.0000e-04\n",
            "Epoch 8/150\n",
            "9/9 [==============================] - 37s 4s/step - loss: 26.0686 - accuracy: 0.6019 - val_loss: 21.7092 - val_accuracy: 0.5417 - lr: 5.0000e-04\n",
            "Epoch 9/150\n",
            "9/9 [==============================] - 36s 4s/step - loss: 33.6687 - accuracy: 0.5509 - val_loss: 21.9248 - val_accuracy: 0.6250 - lr: 5.0000e-04\n",
            "Epoch 10/150\n",
            "9/9 [==============================] - 37s 4s/step - loss: 31.0801 - accuracy: 0.5417 - val_loss: 29.0812 - val_accuracy: 0.5417 - lr: 5.0000e-04\n",
            "Epoch 11/150\n",
            "9/9 [==============================] - 37s 4s/step - loss: 35.3208 - accuracy: 0.5278 - val_loss: 30.6346 - val_accuracy: 0.4583 - lr: 5.0000e-04\n",
            "Epoch 12/150\n",
            "9/9 [==============================] - 37s 4s/step - loss: 30.9554 - accuracy: 0.5880 - val_loss: 48.7387 - val_accuracy: 0.4583 - lr: 5.0000e-04\n",
            "Epoch 13/150\n",
            "9/9 [==============================] - 37s 4s/step - loss: 36.6865 - accuracy: 0.5463 - val_loss: 18.9369 - val_accuracy: 0.6458 - lr: 5.0000e-04\n",
            "Epoch 14/150\n",
            "9/9 [==============================] - 36s 4s/step - loss: 29.9093 - accuracy: 0.6157 - val_loss: 22.6364 - val_accuracy: 0.6250 - lr: 5.0000e-04\n",
            "Epoch 15/150\n",
            "9/9 [==============================] - 36s 4s/step - loss: 39.3326 - accuracy: 0.5370 - val_loss: 27.0032 - val_accuracy: 0.6042 - lr: 5.0000e-04\n",
            "Epoch 16/150\n",
            "9/9 [==============================] - 36s 4s/step - loss: 25.2427 - accuracy: 0.6528 - val_loss: 21.6466 - val_accuracy: 0.6250 - lr: 5.0000e-04\n",
            "Epoch 17/150\n",
            "9/9 [==============================] - 36s 4s/step - loss: 33.7424 - accuracy: 0.5926 - val_loss: 29.9617 - val_accuracy: 0.6458 - lr: 5.0000e-04\n",
            "Epoch 18/150\n",
            "9/9 [==============================] - 36s 4s/step - loss: 30.1286 - accuracy: 0.6204 - val_loss: 33.6354 - val_accuracy: 0.6667 - lr: 5.0000e-04\n",
            "Epoch 19/150\n",
            "9/9 [==============================] - 36s 4s/step - loss: 34.1917 - accuracy: 0.6389 - val_loss: 25.4249 - val_accuracy: 0.6875 - lr: 5.0000e-04\n",
            "Epoch 20/150\n",
            "9/9 [==============================] - 34s 4s/step - loss: 31.6619 - accuracy: 0.5833 - val_loss: 27.9313 - val_accuracy: 0.5625 - lr: 5.0000e-04\n",
            "Epoch 21/150\n",
            "9/9 [==============================] - 34s 4s/step - loss: 31.7867 - accuracy: 0.5880 - val_loss: 19.6812 - val_accuracy: 0.6458 - lr: 5.0000e-04\n",
            "Epoch 22/150\n",
            "9/9 [==============================] - 36s 4s/step - loss: 29.8735 - accuracy: 0.6019 - val_loss: 23.7425 - val_accuracy: 0.6875 - lr: 5.0000e-04\n",
            "Epoch 23/150\n",
            "9/9 [==============================] - 35s 4s/step - loss: 35.1981 - accuracy: 0.5787 - val_loss: 18.7896 - val_accuracy: 0.6458 - lr: 5.0000e-04\n",
            "Epoch 24/150\n",
            "9/9 [==============================] - 32s 3s/step - loss: 26.4986 - accuracy: 0.6296 - val_loss: 22.9874 - val_accuracy: 0.6042 - lr: 5.0000e-04\n",
            "Epoch 25/150\n",
            "9/9 [==============================] - 36s 4s/step - loss: 27.9159 - accuracy: 0.6481 - val_loss: 21.5148 - val_accuracy: 0.6458 - lr: 5.0000e-04\n",
            "Epoch 26/150\n",
            "9/9 [==============================] - 36s 4s/step - loss: 29.8909 - accuracy: 0.6250 - val_loss: 24.7399 - val_accuracy: 0.6042 - lr: 5.0000e-04\n",
            "Epoch 27/150\n",
            "9/9 [==============================] - 32s 3s/step - loss: 31.2029 - accuracy: 0.5556 - val_loss: 22.7737 - val_accuracy: 0.6667 - lr: 5.0000e-04\n",
            "Epoch 28/150\n",
            "9/9 [==============================] - 35s 4s/step - loss: 31.2725 - accuracy: 0.6250 - val_loss: 16.4720 - val_accuracy: 0.7083 - lr: 5.0000e-04\n",
            "Epoch 29/150\n",
            "9/9 [==============================] - 35s 4s/step - loss: 29.4412 - accuracy: 0.6389 - val_loss: 20.6701 - val_accuracy: 0.6458 - lr: 5.0000e-04\n",
            "Epoch 30/150\n",
            "9/9 [==============================] - 36s 4s/step - loss: 30.9950 - accuracy: 0.6250 - val_loss: 21.0280 - val_accuracy: 0.6667 - lr: 5.0000e-04\n",
            "Epoch 31/150\n",
            "9/9 [==============================] - 35s 4s/step - loss: 35.4341 - accuracy: 0.6250 - val_loss: 19.1834 - val_accuracy: 0.5625 - lr: 5.0000e-04\n",
            "Epoch 32/150\n",
            "9/9 [==============================] - 35s 4s/step - loss: 29.2913 - accuracy: 0.6435 - val_loss: 19.5150 - val_accuracy: 0.6875 - lr: 5.0000e-04\n",
            "Epoch 33/150\n",
            "9/9 [==============================] - 36s 4s/step - loss: 33.0256 - accuracy: 0.5787 - val_loss: 17.4749 - val_accuracy: 0.6875 - lr: 5.0000e-04\n",
            "Epoch 34/150\n",
            "9/9 [==============================] - 35s 4s/step - loss: 25.3622 - accuracy: 0.6620 - val_loss: 24.3069 - val_accuracy: 0.6458 - lr: 5.0000e-04\n",
            "Epoch 35/150\n",
            "9/9 [==============================] - 37s 4s/step - loss: 29.0178 - accuracy: 0.6574 - val_loss: 25.4740 - val_accuracy: 0.5833 - lr: 5.0000e-04\n",
            "Epoch 36/150\n",
            "9/9 [==============================] - 36s 4s/step - loss: 29.1483 - accuracy: 0.6065 - val_loss: 18.8925 - val_accuracy: 0.6667 - lr: 5.0000e-04\n",
            "Epoch 37/150\n",
            "9/9 [==============================] - 34s 4s/step - loss: 27.9532 - accuracy: 0.6528 - val_loss: 20.7995 - val_accuracy: 0.6875 - lr: 5.0000e-04\n",
            "Epoch 38/150\n",
            "9/9 [==============================] - 35s 4s/step - loss: 26.5010 - accuracy: 0.6481 - val_loss: 16.0667 - val_accuracy: 0.7083 - lr: 5.0000e-04\n",
            "Epoch 39/150\n",
            "9/9 [==============================] - 35s 4s/step - loss: 24.4834 - accuracy: 0.6852 - val_loss: 23.5889 - val_accuracy: 0.6458 - lr: 5.0000e-04\n",
            "Epoch 40/150\n",
            "9/9 [==============================] - 36s 4s/step - loss: 25.6445 - accuracy: 0.6620 - val_loss: 30.1737 - val_accuracy: 0.5625 - lr: 5.0000e-04\n",
            "Epoch 41/150\n",
            "9/9 [==============================] - 36s 4s/step - loss: 25.5213 - accuracy: 0.6759 - val_loss: 21.8377 - val_accuracy: 0.7083 - lr: 5.0000e-04\n",
            "Epoch 42/150\n",
            "9/9 [==============================] - 36s 4s/step - loss: 24.3837 - accuracy: 0.7130 - val_loss: 18.0956 - val_accuracy: 0.6458 - lr: 5.0000e-04\n",
            "Epoch 43/150\n",
            "9/9 [==============================] - 35s 4s/step - loss: 30.5342 - accuracy: 0.6204 - val_loss: 22.7714 - val_accuracy: 0.6667 - lr: 5.0000e-04\n",
            "Epoch 44/150\n",
            "9/9 [==============================] - 35s 4s/step - loss: 30.1269 - accuracy: 0.6204 - val_loss: 16.1810 - val_accuracy: 0.7500 - lr: 5.0000e-04\n",
            "Epoch 45/150\n",
            "9/9 [==============================] - 34s 4s/step - loss: 26.3701 - accuracy: 0.6667 - val_loss: 19.8496 - val_accuracy: 0.6875 - lr: 5.0000e-04\n",
            "Epoch 46/150\n",
            "9/9 [==============================] - 35s 4s/step - loss: 24.6863 - accuracy: 0.6435 - val_loss: 25.9247 - val_accuracy: 0.6667 - lr: 5.0000e-04\n",
            "Epoch 47/150\n",
            "9/9 [==============================] - 29s 3s/step - loss: 27.3854 - accuracy: 0.6898 - val_loss: 22.9292 - val_accuracy: 0.6250 - lr: 5.0000e-04\n",
            "Epoch 48/150\n",
            "9/9 [==============================] - 31s 3s/step - loss: 24.8392 - accuracy: 0.6667 - val_loss: 20.2300 - val_accuracy: 0.6875 - lr: 5.0000e-04\n",
            "Epoch 49/150\n",
            "9/9 [==============================] - 23s 2s/step - loss: 24.1062 - accuracy: 0.6991 - val_loss: 22.8205 - val_accuracy: 0.6458 - lr: 5.0000e-04\n",
            "Epoch 50/150\n",
            "9/9 [==============================] - 21s 2s/step - loss: 25.7323 - accuracy: 0.6713 - val_loss: 17.2972 - val_accuracy: 0.6042 - lr: 5.0000e-04\n",
            "Epoch 51/150\n",
            "9/9 [==============================] - 21s 2s/step - loss: 24.6989 - accuracy: 0.6713 - val_loss: 21.6189 - val_accuracy: 0.6250 - lr: 5.0000e-04\n",
            "Epoch 52/150\n"
          ]
        },
        {
          "name": "stdout",
          "output_type": "stream",
          "text": [
            "9/9 [==============================] - 21s 2s/step - loss: 23.6092 - accuracy: 0.6991 - val_loss: 21.6025 - val_accuracy: 0.6042 - lr: 5.0000e-04\n",
            "Epoch 53/150\n",
            "9/9 [==============================] - 21s 2s/step - loss: 28.9618 - accuracy: 0.6667 - val_loss: 22.0914 - val_accuracy: 0.6458 - lr: 5.0000e-04\n",
            "Epoch 54/150\n",
            "9/9 [==============================] - 20s 2s/step - loss: 24.4420 - accuracy: 0.6806 - val_loss: 19.3937 - val_accuracy: 0.6458 - lr: 5.0000e-04\n",
            "Epoch 55/150\n",
            "9/9 [==============================] - 21s 2s/step - loss: 25.0307 - accuracy: 0.6713 - val_loss: 17.9280 - val_accuracy: 0.6667 - lr: 5.0000e-04\n",
            "Epoch 56/150\n",
            "9/9 [==============================] - 21s 2s/step - loss: 23.9721 - accuracy: 0.6944 - val_loss: 18.2129 - val_accuracy: 0.6250 - lr: 5.0000e-04\n",
            "Epoch 57/150\n",
            "9/9 [==============================] - 20s 2s/step - loss: 24.5403 - accuracy: 0.7083 - val_loss: 17.7711 - val_accuracy: 0.6875 - lr: 5.0000e-04\n",
            "Epoch 58/150\n",
            "9/9 [==============================] - 22s 2s/step - loss: 25.4898 - accuracy: 0.7083 - val_loss: 25.1487 - val_accuracy: 0.6458 - lr: 5.0000e-04\n",
            "Epoch 59/150\n",
            "9/9 [==============================] - 21s 2s/step - loss: 26.6146 - accuracy: 0.6667 - val_loss: 15.7645 - val_accuracy: 0.7917 - lr: 5.0000e-04\n",
            "Epoch 60/150\n",
            "9/9 [==============================] - 20s 2s/step - loss: 21.7239 - accuracy: 0.7454 - val_loss: 19.2531 - val_accuracy: 0.6875 - lr: 5.0000e-04\n",
            "Epoch 61/150\n",
            "9/9 [==============================] - 21s 2s/step - loss: 24.4246 - accuracy: 0.6713 - val_loss: 15.3387 - val_accuracy: 0.6875 - lr: 5.0000e-04\n",
            "Epoch 62/150\n",
            "9/9 [==============================] - 21s 2s/step - loss: 22.7464 - accuracy: 0.6620 - val_loss: 21.3116 - val_accuracy: 0.5625 - lr: 5.0000e-04\n",
            "Epoch 63/150\n",
            "9/9 [==============================] - 22s 2s/step - loss: 24.6161 - accuracy: 0.6574 - val_loss: 19.9377 - val_accuracy: 0.6667 - lr: 5.0000e-04\n",
            "Epoch 64/150\n",
            "9/9 [==============================] - 21s 2s/step - loss: 20.6968 - accuracy: 0.7407 - val_loss: 19.7375 - val_accuracy: 0.6042 - lr: 5.0000e-04\n",
            "Epoch 65/150\n",
            "9/9 [==============================] - 20s 2s/step - loss: 24.8310 - accuracy: 0.6759 - val_loss: 21.4332 - val_accuracy: 0.6667 - lr: 5.0000e-04\n",
            "Epoch 66/150\n",
            "9/9 [==============================] - 21s 2s/step - loss: 26.3075 - accuracy: 0.7037 - val_loss: 19.3837 - val_accuracy: 0.6458 - lr: 5.0000e-04\n",
            "Epoch 67/150\n",
            "9/9 [==============================] - 20s 2s/step - loss: 26.0270 - accuracy: 0.6204 - val_loss: 23.5607 - val_accuracy: 0.6458 - lr: 5.0000e-04\n",
            "Epoch 68/150\n",
            "9/9 [==============================] - 20s 2s/step - loss: 23.1283 - accuracy: 0.6898 - val_loss: 21.1493 - val_accuracy: 0.6875 - lr: 5.0000e-04\n",
            "Epoch 69/150\n",
            "9/9 [==============================] - 21s 2s/step - loss: 23.6476 - accuracy: 0.6759 - val_loss: 20.6202 - val_accuracy: 0.6458 - lr: 5.0000e-04\n",
            "Epoch 70/150\n",
            "9/9 [==============================] - 21s 2s/step - loss: 21.8392 - accuracy: 0.7500 - val_loss: 20.6226 - val_accuracy: 0.6458 - lr: 5.0000e-04\n",
            "Epoch 71/150\n",
            "9/9 [==============================] - 22s 2s/step - loss: 22.8857 - accuracy: 0.6944 - val_loss: 19.4716 - val_accuracy: 0.6250 - lr: 5.0000e-04\n",
            "Epoch 72/150\n",
            "9/9 [==============================] - 20s 2s/step - loss: 22.5568 - accuracy: 0.6898 - val_loss: 20.7357 - val_accuracy: 0.6875 - lr: 5.0000e-04\n",
            "Epoch 73/150\n",
            "9/9 [==============================] - 22s 2s/step - loss: 21.7018 - accuracy: 0.7407 - val_loss: 17.9131 - val_accuracy: 0.7292 - lr: 5.0000e-04\n",
            "Epoch 74/150\n",
            "9/9 [==============================] - 20s 2s/step - loss: 22.3451 - accuracy: 0.6806 - val_loss: 15.5407 - val_accuracy: 0.7708 - lr: 5.0000e-04\n",
            "Epoch 75/150\n",
            "9/9 [==============================] - 21s 2s/step - loss: 23.5315 - accuracy: 0.6528 - val_loss: 18.5862 - val_accuracy: 0.6458 - lr: 5.0000e-04\n",
            "Epoch 76/150\n",
            "9/9 [==============================] - 24s 3s/step - loss: 22.4678 - accuracy: 0.7176 - val_loss: 15.0390 - val_accuracy: 0.7292 - lr: 5.0000e-04\n",
            "Epoch 77/150\n",
            "9/9 [==============================] - 21s 2s/step - loss: 21.0861 - accuracy: 0.6991 - val_loss: 17.9023 - val_accuracy: 0.6042 - lr: 5.0000e-04\n",
            "Epoch 78/150\n",
            "9/9 [==============================] - 21s 2s/step - loss: 20.1885 - accuracy: 0.7361 - val_loss: 22.9387 - val_accuracy: 0.6458 - lr: 5.0000e-04\n",
            "Epoch 79/150\n",
            "9/9 [==============================] - 20s 2s/step - loss: 22.6580 - accuracy: 0.6528 - val_loss: 15.6394 - val_accuracy: 0.7083 - lr: 5.0000e-04\n",
            "Epoch 80/150\n",
            "9/9 [==============================] - 21s 2s/step - loss: 21.7187 - accuracy: 0.6852 - val_loss: 22.3903 - val_accuracy: 0.6250 - lr: 5.0000e-04\n",
            "Epoch 81/150\n",
            "9/9 [==============================] - 21s 2s/step - loss: 22.5547 - accuracy: 0.6620 - val_loss: 25.5980 - val_accuracy: 0.6042 - lr: 5.0000e-04\n",
            "Epoch 82/150\n",
            "9/9 [==============================] - 21s 2s/step - loss: 20.8076 - accuracy: 0.7222 - val_loss: 17.8264 - val_accuracy: 0.7292 - lr: 5.0000e-04\n",
            "Epoch 83/150\n",
            "9/9 [==============================] - 22s 2s/step - loss: 20.8155 - accuracy: 0.6574 - val_loss: 21.5144 - val_accuracy: 0.6458 - lr: 5.0000e-04\n",
            "Epoch 84/150\n",
            "9/9 [==============================] - 21s 2s/step - loss: 22.9095 - accuracy: 0.6620 - val_loss: 20.8973 - val_accuracy: 0.6875 - lr: 5.0000e-04\n",
            "Epoch 85/150\n",
            "9/9 [==============================] - 22s 2s/step - loss: 24.6683 - accuracy: 0.6713 - val_loss: 18.7028 - val_accuracy: 0.6875 - lr: 5.0000e-04\n",
            "Epoch 86/150\n",
            "9/9 [==============================] - 20s 2s/step - loss: 23.7556 - accuracy: 0.6852 - val_loss: 18.5834 - val_accuracy: 0.6042 - lr: 5.0000e-04\n",
            "Epoch 87/150\n",
            "9/9 [==============================] - 21s 2s/step - loss: 23.0211 - accuracy: 0.6852 - val_loss: 21.2911 - val_accuracy: 0.7083 - lr: 5.0000e-04\n",
            "Epoch 88/150\n",
            "9/9 [==============================] - 21s 2s/step - loss: 22.1387 - accuracy: 0.6667 - val_loss: 18.4027 - val_accuracy: 0.6458 - lr: 5.0000e-04\n",
            "Epoch 89/150\n",
            "9/9 [==============================] - 22s 2s/step - loss: 19.6980 - accuracy: 0.7593 - val_loss: 17.4665 - val_accuracy: 0.7083 - lr: 5.0000e-04\n",
            "Epoch 90/150\n",
            "9/9 [==============================] - 21s 2s/step - loss: 20.9046 - accuracy: 0.6528 - val_loss: 18.5563 - val_accuracy: 0.7083 - lr: 5.0000e-04\n",
            "Epoch 91/150\n",
            "9/9 [==============================] - 20s 2s/step - loss: 21.2301 - accuracy: 0.6898 - val_loss: 15.0398 - val_accuracy: 0.7083 - lr: 5.0000e-04\n",
            "Epoch 92/150\n",
            "9/9 [==============================] - 20s 2s/step - loss: 20.6742 - accuracy: 0.6852 - val_loss: 18.1557 - val_accuracy: 0.6250 - lr: 5.0000e-04\n",
            "Epoch 93/150\n",
            "9/9 [==============================] - 22s 2s/step - loss: 18.8460 - accuracy: 0.7269 - val_loss: 24.3030 - val_accuracy: 0.6458 - lr: 5.0000e-04\n",
            "Epoch 94/150\n",
            "9/9 [==============================] - 23s 3s/step - loss: 20.9452 - accuracy: 0.6667 - val_loss: 14.9065 - val_accuracy: 0.7292 - lr: 5.0000e-04\n",
            "Epoch 95/150\n",
            "9/9 [==============================] - 24s 3s/step - loss: 19.8752 - accuracy: 0.6852 - val_loss: 13.7927 - val_accuracy: 0.7708 - lr: 5.0000e-04\n",
            "Epoch 96/150\n",
            "9/9 [==============================] - 21s 2s/step - loss: 22.4633 - accuracy: 0.6481 - val_loss: 15.7301 - val_accuracy: 0.6875 - lr: 5.0000e-04\n",
            "Epoch 97/150\n",
            "9/9 [==============================] - 21s 2s/step - loss: 18.8696 - accuracy: 0.7222 - val_loss: 18.1475 - val_accuracy: 0.6875 - lr: 5.0000e-04\n",
            "Epoch 98/150\n",
            "9/9 [==============================] - 23s 2s/step - loss: 21.4469 - accuracy: 0.6898 - val_loss: 13.0293 - val_accuracy: 0.7708 - lr: 5.0000e-04\n",
            "Epoch 99/150\n",
            "9/9 [==============================] - 22s 2s/step - loss: 19.7442 - accuracy: 0.6944 - val_loss: 15.8002 - val_accuracy: 0.7292 - lr: 5.0000e-04\n",
            "Epoch 100/150\n",
            "9/9 [==============================] - 22s 2s/step - loss: 17.8293 - accuracy: 0.7269 - val_loss: 14.5210 - val_accuracy: 0.6667 - lr: 5.0000e-04\n",
            "Epoch 101/150\n",
            "9/9 [==============================] - 22s 2s/step - loss: 20.3454 - accuracy: 0.6944 - val_loss: 13.4651 - val_accuracy: 0.7083 - lr: 5.0000e-04\n",
            "Epoch 102/150\n",
            "9/9 [==============================] - 21s 2s/step - loss: 18.0210 - accuracy: 0.7454 - val_loss: 16.9235 - val_accuracy: 0.6667 - lr: 5.0000e-04\n",
            "Epoch 103/150\n"
          ]
        },
        {
          "name": "stdout",
          "output_type": "stream",
          "text": [
            "9/9 [==============================] - 21s 2s/step - loss: 18.8817 - accuracy: 0.7176 - val_loss: 20.2232 - val_accuracy: 0.6250 - lr: 5.0000e-04\n",
            "Epoch 104/150\n",
            "9/9 [==============================] - 22s 2s/step - loss: 20.5135 - accuracy: 0.7130 - val_loss: 15.5414 - val_accuracy: 0.6667 - lr: 5.0000e-04\n",
            "Epoch 105/150\n",
            "9/9 [==============================] - 22s 2s/step - loss: 18.6826 - accuracy: 0.6759 - val_loss: 18.7283 - val_accuracy: 0.7083 - lr: 5.0000e-04\n",
            "Epoch 106/150\n",
            "9/9 [==============================] - 21s 2s/step - loss: 20.2042 - accuracy: 0.7083 - val_loss: 17.8204 - val_accuracy: 0.6458 - lr: 5.0000e-04\n",
            "Epoch 107/150\n",
            "9/9 [==============================] - 22s 2s/step - loss: 19.0237 - accuracy: 0.6759 - val_loss: 16.5383 - val_accuracy: 0.7292 - lr: 5.0000e-04\n",
            "Epoch 108/150\n",
            "9/9 [==============================] - 25s 3s/step - loss: 19.1563 - accuracy: 0.7500 - val_loss: 12.5455 - val_accuracy: 0.7500 - lr: 5.0000e-04\n",
            "Epoch 109/150\n",
            "9/9 [==============================] - 20s 2s/step - loss: 20.8889 - accuracy: 0.6713 - val_loss: 19.5835 - val_accuracy: 0.6458 - lr: 5.0000e-04\n",
            "Epoch 110/150\n",
            "9/9 [==============================] - 22s 2s/step - loss: 18.0900 - accuracy: 0.7176 - val_loss: 14.1986 - val_accuracy: 0.7500 - lr: 5.0000e-04\n",
            "Epoch 111/150\n",
            "9/9 [==============================] - 20s 2s/step - loss: 17.2393 - accuracy: 0.7176 - val_loss: 15.0545 - val_accuracy: 0.6667 - lr: 5.0000e-04\n",
            "Epoch 112/150\n",
            "9/9 [==============================] - 22s 2s/step - loss: 16.8192 - accuracy: 0.7222 - val_loss: 20.1047 - val_accuracy: 0.6042 - lr: 5.0000e-04\n",
            "Epoch 113/150\n",
            "9/9 [==============================] - 25s 3s/step - loss: 16.6318 - accuracy: 0.7083 - val_loss: 12.1179 - val_accuracy: 0.7083 - lr: 5.0000e-04\n",
            "Epoch 114/150\n",
            "9/9 [==============================] - 22s 2s/step - loss: 18.2943 - accuracy: 0.7037 - val_loss: 14.0665 - val_accuracy: 0.6667 - lr: 5.0000e-04\n",
            "Epoch 115/150\n",
            "9/9 [==============================] - 21s 2s/step - loss: 17.7519 - accuracy: 0.7083 - val_loss: 14.8203 - val_accuracy: 0.7083 - lr: 5.0000e-04\n",
            "Epoch 116/150\n",
            "9/9 [==============================] - 22s 2s/step - loss: 16.9410 - accuracy: 0.7269 - val_loss: 13.2227 - val_accuracy: 0.7292 - lr: 5.0000e-04\n",
            "Epoch 117/150\n",
            "9/9 [==============================] - 21s 2s/step - loss: 15.5246 - accuracy: 0.7593 - val_loss: 15.7684 - val_accuracy: 0.6875 - lr: 5.0000e-04\n",
            "Epoch 118/150\n",
            "9/9 [==============================] - 22s 2s/step - loss: 16.5001 - accuracy: 0.6991 - val_loss: 14.7155 - val_accuracy: 0.6458 - lr: 5.0000e-04\n",
            "Epoch 119/150\n",
            "9/9 [==============================] - 22s 2s/step - loss: 17.3158 - accuracy: 0.7454 - val_loss: 18.6550 - val_accuracy: 0.6667 - lr: 5.0000e-04\n",
            "Epoch 120/150\n",
            "9/9 [==============================] - 21s 2s/step - loss: 17.4734 - accuracy: 0.6944 - val_loss: 14.6600 - val_accuracy: 0.6250 - lr: 5.0000e-04\n",
            "Epoch 121/150\n",
            "9/9 [==============================] - 22s 2s/step - loss: 18.6803 - accuracy: 0.7222 - val_loss: 17.6905 - val_accuracy: 0.5208 - lr: 5.0000e-04\n",
            "Epoch 122/150\n",
            "9/9 [==============================] - 21s 2s/step - loss: 18.7151 - accuracy: 0.6852 - val_loss: 21.6637 - val_accuracy: 0.6250 - lr: 5.0000e-04\n",
            "Epoch 123/150\n",
            "9/9 [==============================] - 20s 2s/step - loss: 16.1053 - accuracy: 0.7176 - val_loss: 20.9278 - val_accuracy: 0.5833 - lr: 5.0000e-04\n",
            "Epoch 124/150\n",
            "9/9 [==============================] - 21s 2s/step - loss: 17.8894 - accuracy: 0.7315 - val_loss: 15.5356 - val_accuracy: 0.6667 - lr: 5.0000e-04\n",
            "Epoch 125/150\n",
            "9/9 [==============================] - 22s 2s/step - loss: 19.3866 - accuracy: 0.7037 - val_loss: 16.4307 - val_accuracy: 0.5833 - lr: 5.0000e-04\n",
            "Epoch 126/150\n",
            "9/9 [==============================] - 20s 2s/step - loss: 16.9222 - accuracy: 0.6620 - val_loss: 14.7861 - val_accuracy: 0.6875 - lr: 5.0000e-04\n",
            "Epoch 127/150\n",
            "9/9 [==============================] - 22s 2s/step - loss: 17.8136 - accuracy: 0.6852 - val_loss: 12.1619 - val_accuracy: 0.7292 - lr: 5.0000e-04\n",
            "Epoch 128/150\n",
            "9/9 [==============================] - 21s 2s/step - loss: 15.9768 - accuracy: 0.7315 - val_loss: 14.0602 - val_accuracy: 0.7292 - lr: 5.0000e-04\n",
            "Epoch 129/150\n",
            "9/9 [==============================] - 21s 2s/step - loss: 16.1126 - accuracy: 0.7176 - val_loss: 12.7088 - val_accuracy: 0.7917 - lr: 5.0000e-04\n",
            "Epoch 130/150\n",
            "9/9 [==============================] - 22s 2s/step - loss: 14.4897 - accuracy: 0.7037 - val_loss: 14.9472 - val_accuracy: 0.6667 - lr: 5.0000e-04\n",
            "Epoch 131/150\n",
            "9/9 [==============================] - 20s 2s/step - loss: 15.7722 - accuracy: 0.6991 - val_loss: 16.2484 - val_accuracy: 0.6875 - lr: 5.0000e-04\n",
            "Epoch 132/150\n",
            "9/9 [==============================] - 21s 2s/step - loss: 16.0938 - accuracy: 0.7083 - val_loss: 14.1947 - val_accuracy: 0.7917 - lr: 5.0000e-04\n",
            "Epoch 133/150\n",
            "9/9 [==============================] - 21s 2s/step - loss: 14.3138 - accuracy: 0.7222 - val_loss: 18.2044 - val_accuracy: 0.6042 - lr: 5.0000e-04\n",
            "Epoch 134/150\n",
            "9/9 [==============================] - 22s 2s/step - loss: 16.0261 - accuracy: 0.7083 - val_loss: 12.5476 - val_accuracy: 0.7500 - lr: 5.0000e-04\n",
            "Epoch 135/150\n",
            "9/9 [==============================] - 22s 2s/step - loss: 14.2871 - accuracy: 0.7269 - val_loss: 15.5975 - val_accuracy: 0.6875 - lr: 5.0000e-04\n",
            "Epoch 136/150\n",
            "9/9 [==============================] - 20s 2s/step - loss: 15.3337 - accuracy: 0.7176 - val_loss: 15.6982 - val_accuracy: 0.7500 - lr: 5.0000e-04\n",
            "Epoch 137/150\n",
            "9/9 [==============================] - 22s 2s/step - loss: 15.6998 - accuracy: 0.7176 - val_loss: 13.4355 - val_accuracy: 0.6875 - lr: 5.0000e-04\n",
            "Epoch 138/150\n",
            "9/9 [==============================] - 22s 3s/step - loss: 13.0597 - accuracy: 0.7500 - val_loss: 10.6983 - val_accuracy: 0.7500 - lr: 5.0000e-04\n",
            "Epoch 139/150\n",
            "9/9 [==============================] - 22s 2s/step - loss: 15.9208 - accuracy: 0.7361 - val_loss: 13.1066 - val_accuracy: 0.6667 - lr: 5.0000e-04\n",
            "Epoch 140/150\n",
            "9/9 [==============================] - 21s 2s/step - loss: 13.5098 - accuracy: 0.7130 - val_loss: 16.5794 - val_accuracy: 0.5625 - lr: 5.0000e-04\n",
            "Epoch 141/150\n",
            "9/9 [==============================] - 22s 2s/step - loss: 14.7800 - accuracy: 0.7222 - val_loss: 16.4950 - val_accuracy: 0.6042 - lr: 5.0000e-04\n",
            "Epoch 142/150\n",
            "9/9 [==============================] - 21s 2s/step - loss: 14.6996 - accuracy: 0.7315 - val_loss: 12.0337 - val_accuracy: 0.7917 - lr: 5.0000e-04\n",
            "Epoch 143/150\n",
            "9/9 [==============================] - 21s 2s/step - loss: 14.0458 - accuracy: 0.6944 - val_loss: 18.3975 - val_accuracy: 0.6042 - lr: 5.0000e-04\n",
            "Epoch 144/150\n",
            "9/9 [==============================] - 23s 3s/step - loss: 14.7151 - accuracy: 0.7315 - val_loss: 10.2003 - val_accuracy: 0.7708 - lr: 5.0000e-04\n",
            "Epoch 145/150\n",
            "9/9 [==============================] - 22s 2s/step - loss: 13.5116 - accuracy: 0.7083 - val_loss: 13.8741 - val_accuracy: 0.6250 - lr: 5.0000e-04\n",
            "Epoch 146/150\n",
            "9/9 [==============================] - 22s 2s/step - loss: 13.9135 - accuracy: 0.7593 - val_loss: 15.8022 - val_accuracy: 0.7083 - lr: 5.0000e-04\n",
            "Epoch 147/150\n",
            "9/9 [==============================] - 22s 2s/step - loss: 13.8733 - accuracy: 0.7037 - val_loss: 13.4939 - val_accuracy: 0.7083 - lr: 5.0000e-04\n",
            "Epoch 148/150\n",
            "9/9 [==============================] - 21s 2s/step - loss: 13.1512 - accuracy: 0.7315 - val_loss: 13.1795 - val_accuracy: 0.6875 - lr: 5.0000e-04\n",
            "Epoch 149/150\n",
            "9/9 [==============================] - 20s 2s/step - loss: 13.4762 - accuracy: 0.7037 - val_loss: 12.1846 - val_accuracy: 0.6667 - lr: 5.0000e-04\n",
            "Epoch 150/150\n",
            "9/9 [==============================] - 20s 2s/step - loss: 12.1369 - accuracy: 0.7454 - val_loss: 10.3470 - val_accuracy: 0.7292 - lr: 5.0000e-04\n"
          ]
        }
      ],
      "source": [
        "#FIT MODEL\n",
        "print(len(train_batches))\n",
        "print(len(valid_batches))\n",
        "\n",
        "STEP_SIZE_TRAIN=train_batches.n//train_batches.batch_size\n",
        "STEP_SIZE_VALID=valid_batches.n//valid_batches.batch_size\n",
        "\n",
        "model_checkpoint_callback = tf.keras.callbacks.ModelCheckpoint(\n",
        "    filepath=\"Task2_best_weight_InceptionResNetV2_l0.001\",\n",
        "    save_weights_only=True,\n",
        "    monitor='val_loss',\n",
        "    mode='min',\n",
        "    save_best_only=True)\n",
        "reduce_lr = tf.keras.callbacks.ReduceLROnPlateau(monitor='val_loss', factor=0.2,\n",
        "                              patience=5, min_lr=0.001)\n",
        "\n",
        "#raise NotImplementedError(\"Use the model.fit function to train your network\")\n",
        "model.compile(loss=tf.keras.losses.CategoricalCrossentropy(from_logits = True),optimizer = tf.keras.optimizers.Adam(learning_rate = LEARNING_RATE), metrics = ['accuracy'])\n",
        "history = model.fit(train_batches, epochs = NUM_EPOCHS, batch_size = BATCH_SIZE,validation_data = valid_batches,steps_per_epoch = STEP_SIZE_TRAIN,validation_steps = STEP_SIZE_VALID, callbacks=[model_checkpoint_callback,reduce_lr])"
      ]
    },
    {
      "cell_type": "markdown",
      "metadata": {
        "nbpresent": {
          "id": "66140980-2aa4-457f-b1df-74c10c234cc2"
        },
        "id": "4ZQrhtBB4RFu"
      },
      "source": [
        "#### [5 points] Plot Accuracy and Loss During Training"
      ]
    },
    {
      "cell_type": "code",
      "execution_count": null,
      "metadata": {
        "nbpresent": {
          "id": "ff342098-784a-4e20-ac34-b74ca8ebe839"
        },
        "id": "ntWW0Ult4RFu",
        "outputId": "4fa658ed-e21e-4c87-a1e7-2bcaf9b767f6"
      },
      "outputs": [
        {
          "data": {
            "image/png": "[encoded data removed]",
            "text/plain": [
              "<Figure size 432x288 with 1 Axes>"
            ]
          },
          "metadata": {
            "needs_background": "light"
          },
          "output_type": "display_data"
        },
        {
          "data": {
            "image/png": "[encoded data removed]",
            "text/plain": [
              "<Figure size 432x288 with 1 Axes>"
            ]
          },
          "metadata": {
            "needs_background": "light"
          },
          "output_type": "display_data"
        }
      ],
      "source": [
        "import matplotlib.pyplot as plt\n",
        "\n",
        "# summarize history for accuracy\n",
        "plt.plot(history.history['accuracy'])\n",
        "plt.plot(history.history['val_accuracy'])\n",
        "plt.title('model accuracy')\n",
        "plt.ylabel('accuracy')\n",
        "plt.xlabel('epoch')\n",
        "plt.legend(['train', 'test'], loc='upper left')\n",
        "plt.show()\n",
        "# summarize history for loss\n",
        "plt.plot(history.history['loss'])\n",
        "plt.plot(history.history['val_loss'])\n",
        "plt.title('model loss')\n",
        "plt.ylabel('loss')\n",
        "plt.xlabel('epoch')\n",
        "plt.legend(['train', 'test'], loc='upper left')\n",
        "plt.show()"
      ]
    },
    {
      "cell_type": "markdown",
      "metadata": {
        "nbpresent": {
          "id": "66140980-2aa4-457f-b1df-74c10c234cc2"
        },
        "id": "ZSmNQGD-4RFv"
      },
      "source": [
        "#### Testing Model"
      ]
    },
    {
      "cell_type": "code",
      "execution_count": null,
      "metadata": {
        "id": "RZ6V7Vsw4RFv",
        "outputId": "25a9fecd-68f4-49bd-f529-e4b8c652627b"
      },
      "outputs": [
        {
          "name": "stdout",
          "output_type": "stream",
          "text": [
            "Found 36 images belonging to 4 classes.\n",
            "36\n"
          ]
        },
        {
          "name": "stderr",
          "output_type": "stream",
          "text": [
            "C:\\Users\\woody\\AppData\\Local\\Temp\\ipykernel_8420\\463003407.py:7: UserWarning: `Model.evaluate_generator` is deprecated and will be removed in a future version. Please use `Model.evaluate`, which supports generators.\n",
            "  x = model.evaluate_generator(eval_generator,steps = np.ceil(len(eval_generator)),\n"
          ]
        },
        {
          "name": "stdout",
          "output_type": "stream",
          "text": [
            "36/36 [==============================] - 6s 170ms/step - loss: 12.4365 - accuracy: 0.7500\n",
            "Test loss: 12.436456680297852\n",
            "Test accuracy: 0.75\n"
          ]
        }
      ],
      "source": [
        "test_datagen = ImageDataGenerator(rescale=1. / 255)\n",
        "\n",
        "eval_generator = test_datagen.flow_from_directory(TEST_DIR,target_size=IMAGE_SIZE,\n",
        "                                                  batch_size=1,shuffle=True,seed=42,class_mode=\"categorical\")\n",
        "eval_generator.reset()\n",
        "print(len(eval_generator))\n",
        "x = model.evaluate_generator(eval_generator,steps = np.ceil(len(eval_generator)),\n",
        "                           use_multiprocessing = False,verbose = 1,workers=1)\n",
        "print('Test loss:' , x[0])\n",
        "print('Test accuracy:',x[1])"
      ]
    },
    {
      "cell_type": "markdown",
      "metadata": {
        "nbpresent": {
          "id": "66140980-2aa4-457f-b1df-74c10c234cc2"
        },
        "id": "1tZ3fU4F4RFw"
      },
      "source": [
        "## [10 points] TSNE Plot\n",
        "t-Distributed Stochastic Neighbor Embedding (t-SNE) is a widely used technique for dimensionality reduction that is particularly well suited for the visualization of high-dimensional datasets. After training is complete, extract features from a specific deep layer of your choice, use t-SNE to reduce the dimensionality of your extracted features to 2 dimensions and plot the resulting 2D features."
      ]
    },
    {
      "cell_type": "code",
      "execution_count": null,
      "metadata": {
        "id": "lJX2vJC54RFw",
        "outputId": "7d1a6a3a-15c2-4a45-a791-f9ea7c875912"
      },
      "outputs": [
        {
          "name": "stdout",
          "output_type": "stream",
          "text": [
            "Found 270 images belonging to 4 classes.\n"
          ]
        },
        {
          "name": "stderr",
          "output_type": "stream",
          "text": [
            "C:\\Users\\woody\\AppData\\Local\\Temp\\ipykernel_8420\\429691970.py:10: UserWarning: `Model.predict_generator` is deprecated and will be removed in a future version. Please use `Model.predict`, which supports generators.\n",
            "  pred = intermediate_layer_model.predict_generator(tsne_eval_generator)\n",
            "C:\\Users\\woody\\AppData\\Local\\Programs\\Python\\Python310\\lib\\site-packages\\sklearn\\manifold\\_t_sne.py:780: FutureWarning: The default initialization in TSNE will change from 'random' to 'pca' in 1.2.\n",
            "  warnings.warn(\n",
            "C:\\Users\\woody\\AppData\\Local\\Programs\\Python\\Python310\\lib\\site-packages\\sklearn\\manifold\\_t_sne.py:790: FutureWarning: The default learning rate in TSNE will change from 200.0 to 'auto' in 1.2.\n",
            "  warnings.warn(\n"
          ]
        },
        {
          "data": {
            "text/plain": [
              "<matplotlib.legend.Legend at 0x241e96ebd60>"
            ]
          },
          "execution_count": 8,
          "metadata": {},
          "output_type": "execute_result"
        },
        {
          "data": {
            "image/png": "[encoded data removed]",
            "text/plain": [
              "<Figure size 432x288 with 1 Axes>"
            ]
          },
          "metadata": {
            "needs_background": "light"
          },
          "output_type": "display_data"
        }
      ],
      "source": [
        "from sklearn.manifold import TSNE\n",
        "\n",
        "intermediate_layer_model = tf.keras.Model(inputs=model.input,\n",
        "                                        outputs=model.get_layer('dense_2').output)\n",
        "\n",
        "tsne_eval_generator = test_datagen.flow_from_directory(DATASET_PATH,target_size=IMAGE_SIZE,\n",
        "                                                  batch_size=1,shuffle=False,seed=42,class_mode=\"categorical\")\n",
        "\n",
        "tsne_eval_generator.reset()\n",
        "pred = intermediate_layer_model.predict_generator(tsne_eval_generator)\n",
        "\n",
        "tsne = TSNE(n_components=2,method='exact')\n",
        "'''\n",
        "\n",
        "    * use the generator to get images, pass them to interemediate_layer_model \n",
        "    * collect the output features into an array \n",
        "    * feed that array into fit_transform \n",
        "\n",
        "'''\n",
        "        \n",
        "\n",
        "\n",
        "#X_2d = tsne.fit_transform(pred)\n",
        "tsne_result = tsne.fit_transform(pred)\n",
        "scatter = plt.scatter(tsne_result[:,0], tsne_result[:,1], c=tsne_eval_generator.labels)\n",
        "handles, _ = scatter.legend_elements(prop='colors')\n",
        "plt.legend(handles, [\"Covid19\",\"Normal\",\"bac\",\"vir\"])\n",
        "\n",
        "\n"
      ]
    },
    {
      "cell_type": "markdown",
      "metadata": {
        "id": "nQP60wYh4RFx"
      },
      "source": [
        "<!-- ## Task 2: COVID-19 vs Normal vs Tertiary Pneumonia (Bacterial and Viral) -->"
      ]
    },
    {
      "cell_type": "markdown",
      "metadata": {
        "nbpresent": {
          "id": "66140980-2aa4-457f-b1df-74c10c234cc2"
        },
        "id": "XMcCrnP74RFx"
      },
      "source": [
        "<!-- #### Renew Training Batch and Validation Batch -->"
      ]
    },
    {
      "cell_type": "markdown",
      "metadata": {
        "nbpresent": {
          "id": "66140980-2aa4-457f-b1df-74c10c234cc2"
        },
        "id": "p6c6kwgw4RFy"
      },
      "source": [
        "<!-- #### Renew Model -->"
      ]
    }
  ],
  "metadata": {
    "kernelspec": {
      "display_name": "Python 3 (ipykernel)",
      "language": "python",
      "name": "python3"
    },
    "language_info": {
      "codemirror_mode": {
        "name": "ipython",
        "version": 3
      },
      "file_extension": ".py",
      "mimetype": "text/x-python",
      "name": "python",
      "nbconvert_exporter": "python",
      "pygments_lexer": "ipython3",
      "version": "3.10.2"
    },
    "latex_envs": {
      "LaTeX_envs_menu_present": true,
      "autoclose": false,
      "autocomplete": true,
      "bibliofile": "biblio.bib",
      "cite_by": "apalike",
      "current_citInitial": 1,
      "eqLabelWithNumbers": true,
      "eqNumInitial": 1,
      "hotkeys": {
        "equation": "Ctrl-E",
        "itemize": "Ctrl-I"
      },
      "labels_anchors": false,
      "latex_user_defs": false,
      "report_style_numbering": false,
      "user_envs_cfg": false
    },
    "toc": {
      "base_numbering": 1,
      "nav_menu": {},
      "number_sections": true,
      "sideBar": true,
      "skip_h1_title": false,
      "title_cell": "Table of Contents",
      "title_sidebar": "Contents",
      "toc_cell": false,
      "toc_position": {},
      "toc_section_display": true,
      "toc_window_display": false
    },
    "varInspector": {
      "cols": {
        "lenName": 16,
        "lenType": 16,
        "lenVar": 40
      },
      "kernels_config": {
        "python": {
          "delete_cmd_postfix": "",
          "delete_cmd_prefix": "del ",
          "library": "var_list.py",
          "varRefreshCmd": "print(var_dic_list())"
        },
        "r": {
          "delete_cmd_postfix": ") ",
          "delete_cmd_prefix": "rm(",
          "library": "var_list.r",
          "varRefreshCmd": "cat(var_dic_list()) "
        }
      },
      "types_to_exclude": [
        "module",
        "function",
        "builtin_function_or_method",
        "instance",
        "_Feature"
      ],
      "window_display": false
    },
    "colab": {
      "name": "task2_template_InceptionResNetV2.ipynb",
      "provenance": [],
      "include_colab_link": true
    }
  },
  "nbformat": 4,
  "nbformat_minor": 0
}