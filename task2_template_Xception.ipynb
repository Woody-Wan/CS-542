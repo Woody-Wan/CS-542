{
  "cells": [
    {
      "cell_type": "markdown",
      "metadata": {
        "id": "view-in-github",
        "colab_type": "text"
      },
      "source": [
        "<a href=\"https://colab.research.google.com/github/Woody-Wan/CS-542/blob/main/task2_template_Xception.ipynb\" target=\"_parent\"><img src=\"https://colab.research.google.com/assets/colab-badge.svg\" alt=\"Open In Colab\"/></a>"
      ]
    },
    {
      "cell_type": "markdown",
      "metadata": {
        "nbpresent": {
          "id": "1d234e3f-af8b-4757-83f3-241b04b7a511"
        },
        "id": "yiWNqHKi4hkR"
      },
      "source": [
        "# Class Challenge: Image Classification of COVID-19 X-rays\n",
        "# Task 2 [Total points: 30]"
      ]
    },
    {
      "cell_type": "markdown",
      "metadata": {
        "nbpresent": {
          "id": "b07b9992-b592-4871-9f9a-3b0ae5fa8b5f"
        },
        "id": "7OJ2YBRh4hkY"
      },
      "source": [
        "## Setup\n",
        "\n",
        "* This assignment involves the following packages: 'matplotlib', 'numpy', and 'sklearn'. \n",
        "\n",
        "* If you are using conda, use the following commands to install the above packages:<br>\n",
        "```shell\n",
        "conda install matplotlib\n",
        "conda install numpy\n",
        "conda install -c anaconda scikit-learn\n",
        "```\n",
        "\n",
        "* If you are using pip, use use the following commands to install the above packages: <br> \n",
        "```shell\n",
        "pip install matplotlib\n",
        "pip install numpy\n",
        "pip install sklearn\n",
        "```"
      ]
    },
    {
      "cell_type": "markdown",
      "metadata": {
        "nbpresent": {
          "id": "5516f610-f00c-43c3-bf19-4cf7ab9c089f"
        },
        "id": "DYcchT0w4hka"
      },
      "source": [
        "## Data\n",
        "\n",
        "Please download the data using the following link: [COVID-19](https://drive.google.com/file/d/1Y88tgqpQ1Pjko_7rntcPowOJs_QNOrJ-/view). \n",
        "\n",
        "* After downloading 'Covid_Data_GradientCrescent.zip', unzip the file and you should see the following data structure:\n",
        "\n",
        "\n",
        "|--all<br>\n",
        "|--------train<br>\n",
        "|--------test<br>\n",
        "|--two<br>\n",
        "|--------train<br>\n",
        "|--------test<br>\n",
        "\n",
        "\n",
        "* Put the 'all' folder, the 'two' folder and this python notebook in the **same directory** so that the following code can correctly locate the data.  \n",
        "\n"
      ]
    },
    {
      "cell_type": "markdown",
      "metadata": {
        "nbpresent": {
          "id": "66140980-2aa4-457f-b1df-74c10c234cc2"
        },
        "id": "Z7Felopm4hkb"
      },
      "source": [
        "## [20 points] Multi-class Classification"
      ]
    },
    {
      "cell_type": "code",
      "execution_count": null,
      "metadata": {
        "nbpresent": {
          "id": "5e05f980-3d14-4367-b3d1-664249145b13"
        },
        "scrolled": true,
        "id": "KmTOIebn4hkc",
        "outputId": "be250b64-d38c-4ca7-8f91-86cbfc2afb5a"
      },
      "outputs": [
        {
          "data": {
            "text/plain": [
              "'2.8.0'"
            ]
          },
          "execution_count": 1,
          "metadata": {},
          "output_type": "execute_result"
        }
      ],
      "source": [
        "import os\n",
        "\n",
        "import tensorflow as tf\n",
        "import numpy as np\n",
        "import matplotlib.pyplot as plt\n",
        "from tensorflow.keras.preprocessing.image import ImageDataGenerator\n",
        "\n",
        "os.environ['OMP_NUM_THREADS'] = '1'\n",
        "os.environ['CUDA_VISIBLE_DEVICES'] = '-1'\n",
        "tf.__version__"
      ]
    },
    {
      "cell_type": "markdown",
      "metadata": {
        "nbpresent": {
          "id": "66140980-2aa4-457f-b1df-74c10c234cc2"
        },
        "id": "ZAOWqZmM4hkg"
      },
      "source": [
        "#### Load Image Data"
      ]
    },
    {
      "cell_type": "code",
      "execution_count": null,
      "metadata": {
        "nbpresent": {
          "id": "58317664-8da3-4283-b3e5-35721687e7ab"
        },
        "id": "EXdxSnsx4hkh"
      },
      "outputs": [],
      "source": [
        "DATA_LIST = os.listdir('D:/Workspace/CS542/Class Challenge/Covid_Data_GradientCrescent/all')\n",
        "DATASET_PATH  = 'D:/Workspace/CS542/Class Challenge/Covid_Data_GradientCrescent/all/train'\n",
        "TEST_DIR =  'D:/Workspace/CS542/Class Challenge/Covid_Data_GradientCrescent/all/test'\n",
        "IMAGE_SIZE    = (224, 224)\n",
        "NUM_CLASSES   = len(DATA_LIST)\n",
        "BATCH_SIZE    = 54  # try reducing batch size or freeze more layers if your GPU runs out of memory\n",
        "NUM_EPOCHS    = 200\n",
        "LEARNING_RATE = 0.0005 # start off with high rate first 0.001 and experiment with reducing it gradually "
      ]
    },
    {
      "cell_type": "markdown",
      "metadata": {
        "nbpresent": {
          "id": "66140980-2aa4-457f-b1df-74c10c234cc2"
        },
        "id": "yc4ekUN54hkj"
      },
      "source": [
        "#### Generate Training and Validation Batches"
      ]
    },
    {
      "cell_type": "code",
      "execution_count": null,
      "metadata": {
        "nbpresent": {
          "id": "71760e29-2b08-4259-93f1-ebe68cd74a6d"
        },
        "id": "mdpQrXQU4hkk",
        "outputId": "1ae97490-4534-40ce-a939-000788ee4d9c"
      },
      "outputs": [
        {
          "name": "stderr",
          "output_type": "stream",
          "text": [
            "C:\\Users\\woody\\AppData\\Local\\Programs\\Python\\Python310\\lib\\site-packages\\keras_preprocessing\\image\\image_data_generator.py:342: UserWarning: This ImageDataGenerator specifies `zca_whitening` which overrides setting of`featurewise_std_normalization`.\n",
            "  warnings.warn('This ImageDataGenerator specifies '\n"
          ]
        },
        {
          "name": "stdout",
          "output_type": "stream",
          "text": [
            "Found 216 images belonging to 4 classes.\n",
            "Found 54 images belonging to 4 classes.\n"
          ]
        }
      ],
      "source": [
        "train_datagen = ImageDataGenerator(rescale=1./255,rotation_range=50,featurewise_center = True,\n",
        "                                   featurewise_std_normalization = True,width_shift_range=0.2,\n",
        "                                   height_shift_range=0.2,shear_range=0.25,zoom_range=0.1,\n",
        "                                   zca_whitening = True,channel_shift_range = 20,\n",
        "                                   horizontal_flip = True,vertical_flip = True,\n",
        "                                   validation_split = 0.2,fill_mode='constant')\n",
        "\n",
        "\n",
        "train_batches = train_datagen.flow_from_directory(DATASET_PATH,target_size=IMAGE_SIZE,\n",
        "                                                  shuffle=True,batch_size=BATCH_SIZE,\n",
        "                                                  subset = \"training\",seed=42,\n",
        "                                                  class_mode=\"categorical\")\n",
        "\n",
        "valid_batches = train_datagen.flow_from_directory(DATASET_PATH,target_size=IMAGE_SIZE,\n",
        "                                                  shuffle=True,batch_size=BATCH_SIZE,\n",
        "                                                  subset = \"validation\",\n",
        "                                                  seed=42,class_mode=\"categorical\")"
      ]
    },
    {
      "cell_type": "markdown",
      "metadata": {
        "nbpresent": {
          "id": "66140980-2aa4-457f-b1df-74c10c234cc2"
        },
        "id": "9JWSGTqC4hkl"
      },
      "source": [
        "#### [10 points] Build Model\n",
        "Hint: Starting from a pre-trained model typically helps performance on a new task, e.g. starting with weights obtained by training on ImageNet. "
      ]
    },
    {
      "cell_type": "code",
      "execution_count": null,
      "metadata": {
        "nbpresent": {
          "id": "5c52eeb2-1092-4d45-9e16-02219c82cb5e"
        },
        "id": "xPs-a_zN4hkm",
        "outputId": "2b2eecf0-1a8c-4fb8-cfe4-35feb1b9db68"
      },
      "outputs": [
        {
          "name": "stdout",
          "output_type": "stream",
          "text": [
            "Model: \"sequential\"\n",
            "_________________________________________________________________\n",
            " Layer (type)                Output Shape              Param #   \n",
            "=================================================================\n",
            " xception (Functional)       (None, 7, 7, 2048)        20861480  \n",
            "                                                                 \n",
            " flatten (Flatten)           (None, 100352)            0         \n",
            "                                                                 \n",
            " dense (Dense)               (None, 256)               25690368  \n",
            "                                                                 \n",
            " dropout (Dropout)           multiple                  0         \n",
            "                                                                 \n",
            " dense_1 (Dense)             (None, 128)               32896     \n",
            "                                                                 \n",
            " dense_2 (Dense)             (None, 4)                 516       \n",
            "                                                                 \n",
            "=================================================================\n",
            "Total params: 46,585,260\n",
            "Trainable params: 25,723,780\n",
            "Non-trainable params: 20,861,480\n",
            "_________________________________________________________________\n"
          ]
        }
      ],
      "source": [
        "Xception = tf.keras.applications.Xception(input_shape = (224, 224, 3),\n",
        "                                               include_top=False,\n",
        "                                               weights='imagenet',\n",
        "                                               classifier_activation = None)\n",
        "Xception.trainable = False\n",
        "flatten_1 = tf.keras.layers.Flatten()\n",
        "dense_feature_1 = tf.keras.layers.Dense(256, kernel_regularizer='l2')\n",
        "dense_feature_2 = tf.keras.layers.Dense(128, kernel_regularizer='l2')\n",
        "Dropout = tf.keras.layers.Dropout(0.5)\n",
        "dense_1 = tf.keras.layers.Dense(4, activation = 'softmax')\n",
        "\n",
        "\n",
        "model = tf.keras.Sequential([\n",
        "  Xception,\n",
        "  flatten_1,\n",
        "  dense_feature_1,\n",
        "  Dropout,\n",
        "  dense_feature_2,\n",
        "  Dropout,\n",
        "  dense_1,\n",
        "])\n",
        "\n",
        "model_lowest_loss = model\n",
        "model.summary()\n"
      ]
    },
    {
      "cell_type": "markdown",
      "metadata": {
        "nbpresent": {
          "id": "66140980-2aa4-457f-b1df-74c10c234cc2"
        },
        "id": "UwlIBrTc4hkn"
      },
      "source": [
        "#### [5 points] Train Model"
      ]
    },
    {
      "cell_type": "code",
      "execution_count": null,
      "metadata": {
        "nbpresent": {
          "id": "cdb90d24-6a23-4969-8138-f37e7050062d"
        },
        "id": "EYpH1QDQ4hko",
        "outputId": "f867af4d-26f9-4e0b-ae7a-1bd33df14ee4"
      },
      "outputs": [
        {
          "name": "stdout",
          "output_type": "stream",
          "text": [
            "4\n",
            "1\n"
          ]
        },
        {
          "name": "stderr",
          "output_type": "stream",
          "text": [
            "C:\\Users\\woody\\AppData\\Local\\Programs\\Python\\Python310\\lib\\site-packages\\keras_preprocessing\\image\\image_data_generator.py:720: UserWarning: This ImageDataGenerator specifies `featurewise_center`, but it hasn't been fit on any training data. Fit it first by calling `.fit(numpy_data)`.\n",
            "  warnings.warn('This ImageDataGenerator specifies '\n",
            "C:\\Users\\woody\\AppData\\Local\\Programs\\Python\\Python310\\lib\\site-packages\\keras_preprocessing\\image\\image_data_generator.py:739: UserWarning: This ImageDataGenerator specifies `zca_whitening`, but it hasn't been fit on any training data. Fit it first by calling `.fit(numpy_data)`.\n",
            "  warnings.warn('This ImageDataGenerator specifies '\n"
          ]
        },
        {
          "name": "stdout",
          "output_type": "stream",
          "text": [
            "Epoch 1/200\n",
            "4/4 [==============================] - 34s 7s/step - loss: 29.9064 - accuracy: 0.3380 - val_loss: 26.8395 - val_accuracy: 0.5000 - lr: 5.0000e-04\n",
            "Epoch 2/200\n",
            "4/4 [==============================] - 22s 6s/step - loss: 27.8842 - accuracy: 0.5139 - val_loss: 32.9736 - val_accuracy: 0.4630 - lr: 5.0000e-04\n",
            "Epoch 3/200\n",
            "4/4 [==============================] - 22s 6s/step - loss: 26.8964 - accuracy: 0.5602 - val_loss: 22.1390 - val_accuracy: 0.6852 - lr: 5.0000e-04\n",
            "Epoch 4/200\n",
            "4/4 [==============================] - 23s 6s/step - loss: 25.5387 - accuracy: 0.5972 - val_loss: 18.9933 - val_accuracy: 0.5926 - lr: 5.0000e-04\n",
            "Epoch 5/200\n",
            "4/4 [==============================] - 22s 6s/step - loss: 22.9779 - accuracy: 0.6343 - val_loss: 25.9764 - val_accuracy: 0.6111 - lr: 5.0000e-04\n",
            "Epoch 6/200\n",
            "4/4 [==============================] - 21s 5s/step - loss: 24.4122 - accuracy: 0.6204 - val_loss: 20.0355 - val_accuracy: 0.5556 - lr: 5.0000e-04\n",
            "Epoch 7/200\n",
            "4/4 [==============================] - 20s 5s/step - loss: 21.8013 - accuracy: 0.6343 - val_loss: 21.6202 - val_accuracy: 0.5741 - lr: 5.0000e-04\n",
            "Epoch 8/200\n",
            "4/4 [==============================] - 23s 6s/step - loss: 20.2120 - accuracy: 0.6296 - val_loss: 14.0208 - val_accuracy: 0.7222 - lr: 5.0000e-04\n",
            "Epoch 9/200\n",
            "4/4 [==============================] - 21s 5s/step - loss: 20.8173 - accuracy: 0.6481 - val_loss: 16.3833 - val_accuracy: 0.6111 - lr: 5.0000e-04\n",
            "Epoch 10/200\n",
            "4/4 [==============================] - 23s 6s/step - loss: 22.7680 - accuracy: 0.6065 - val_loss: 13.7116 - val_accuracy: 0.7037 - lr: 5.0000e-04\n",
            "Epoch 11/200\n",
            "4/4 [==============================] - 21s 5s/step - loss: 18.3716 - accuracy: 0.6759 - val_loss: 19.0808 - val_accuracy: 0.6481 - lr: 5.0000e-04\n",
            "Epoch 12/200\n",
            "4/4 [==============================] - 23s 6s/step - loss: 20.2319 - accuracy: 0.6620 - val_loss: 12.8391 - val_accuracy: 0.7037 - lr: 5.0000e-04\n",
            "Epoch 13/200\n",
            "4/4 [==============================] - 21s 5s/step - loss: 19.7759 - accuracy: 0.6528 - val_loss: 13.2749 - val_accuracy: 0.6852 - lr: 5.0000e-04\n",
            "Epoch 14/200\n",
            "4/4 [==============================] - 22s 6s/step - loss: 23.9204 - accuracy: 0.5787 - val_loss: 19.7690 - val_accuracy: 0.6296 - lr: 5.0000e-04\n",
            "Epoch 15/200\n",
            "4/4 [==============================] - 21s 6s/step - loss: 16.1344 - accuracy: 0.6991 - val_loss: 15.0780 - val_accuracy: 0.6296 - lr: 5.0000e-04\n",
            "Epoch 16/200\n",
            "4/4 [==============================] - 21s 5s/step - loss: 20.9188 - accuracy: 0.6574 - val_loss: 15.0713 - val_accuracy: 0.6296 - lr: 5.0000e-04\n",
            "Epoch 17/200\n",
            "4/4 [==============================] - 21s 5s/step - loss: 20.0267 - accuracy: 0.6852 - val_loss: 16.0257 - val_accuracy: 0.6852 - lr: 5.0000e-04\n",
            "Epoch 18/200\n",
            "4/4 [==============================] - 17s 4s/step - loss: 17.7073 - accuracy: 0.7083 - val_loss: 12.8744 - val_accuracy: 0.6481 - lr: 5.0000e-04\n",
            "Epoch 19/200\n",
            "4/4 [==============================] - 12s 3s/step - loss: 20.4407 - accuracy: 0.6806 - val_loss: 15.6449 - val_accuracy: 0.6296 - lr: 5.0000e-04\n",
            "Epoch 20/200\n",
            "4/4 [==============================] - 20s 6s/step - loss: 18.5224 - accuracy: 0.6389 - val_loss: 16.9629 - val_accuracy: 0.6111 - lr: 5.0000e-04\n",
            "Epoch 21/200\n",
            "4/4 [==============================] - 21s 6s/step - loss: 15.8160 - accuracy: 0.7546 - val_loss: 12.9807 - val_accuracy: 0.6852 - lr: 5.0000e-04\n",
            "Epoch 22/200\n",
            "4/4 [==============================] - 20s 5s/step - loss: 18.7294 - accuracy: 0.6296 - val_loss: 15.0797 - val_accuracy: 0.6852 - lr: 5.0000e-04\n",
            "Epoch 23/200\n",
            "4/4 [==============================] - 20s 5s/step - loss: 19.6563 - accuracy: 0.6620 - val_loss: 14.3992 - val_accuracy: 0.6111 - lr: 5.0000e-04\n",
            "Epoch 24/200\n",
            "4/4 [==============================] - 21s 5s/step - loss: 18.3447 - accuracy: 0.6806 - val_loss: 16.3189 - val_accuracy: 0.6667 - lr: 5.0000e-04\n",
            "Epoch 25/200\n",
            "4/4 [==============================] - 21s 5s/step - loss: 18.1671 - accuracy: 0.7130 - val_loss: 16.5447 - val_accuracy: 0.6667 - lr: 5.0000e-04\n",
            "Epoch 26/200\n",
            "4/4 [==============================] - 21s 5s/step - loss: 18.8437 - accuracy: 0.6806 - val_loss: 13.7216 - val_accuracy: 0.6481 - lr: 5.0000e-04\n",
            "Epoch 27/200\n",
            "4/4 [==============================] - 21s 5s/step - loss: 19.5333 - accuracy: 0.6481 - val_loss: 13.1177 - val_accuracy: 0.7222 - lr: 5.0000e-04\n",
            "Epoch 28/200\n",
            "4/4 [==============================] - 20s 5s/step - loss: 19.3697 - accuracy: 0.6667 - val_loss: 15.5696 - val_accuracy: 0.6481 - lr: 5.0000e-04\n",
            "Epoch 29/200\n",
            "4/4 [==============================] - 22s 5s/step - loss: 18.1022 - accuracy: 0.7222 - val_loss: 14.6992 - val_accuracy: 0.7037 - lr: 5.0000e-04\n",
            "Epoch 30/200\n",
            "4/4 [==============================] - 21s 5s/step - loss: 18.1367 - accuracy: 0.6898 - val_loss: 15.0093 - val_accuracy: 0.6296 - lr: 5.0000e-04\n",
            "Epoch 31/200\n",
            "4/4 [==============================] - 21s 5s/step - loss: 21.1528 - accuracy: 0.6528 - val_loss: 15.3974 - val_accuracy: 0.6296 - lr: 5.0000e-04\n",
            "Epoch 32/200\n",
            "4/4 [==============================] - 21s 5s/step - loss: 18.7719 - accuracy: 0.6806 - val_loss: 17.5588 - val_accuracy: 0.7037 - lr: 5.0000e-04\n",
            "Epoch 33/200\n",
            "4/4 [==============================] - 22s 6s/step - loss: 20.2375 - accuracy: 0.6481 - val_loss: 11.0175 - val_accuracy: 0.7222 - lr: 5.0000e-04\n",
            "Epoch 34/200\n",
            "4/4 [==============================] - 22s 5s/step - loss: 18.4166 - accuracy: 0.7037 - val_loss: 13.8432 - val_accuracy: 0.7407 - lr: 5.0000e-04\n",
            "Epoch 35/200\n",
            "4/4 [==============================] - 22s 6s/step - loss: 19.0486 - accuracy: 0.6574 - val_loss: 15.9451 - val_accuracy: 0.6481 - lr: 5.0000e-04\n",
            "Epoch 36/200\n",
            "4/4 [==============================] - 21s 6s/step - loss: 19.0666 - accuracy: 0.7037 - val_loss: 14.9440 - val_accuracy: 0.6111 - lr: 5.0000e-04\n",
            "Epoch 37/200\n",
            "4/4 [==============================] - 21s 5s/step - loss: 18.8060 - accuracy: 0.6944 - val_loss: 13.7505 - val_accuracy: 0.6852 - lr: 5.0000e-04\n",
            "Epoch 38/200\n",
            "4/4 [==============================] - 21s 6s/step - loss: 18.9651 - accuracy: 0.6898 - val_loss: 16.5393 - val_accuracy: 0.6852 - lr: 5.0000e-04\n",
            "Epoch 39/200\n",
            "4/4 [==============================] - 22s 6s/step - loss: 15.8658 - accuracy: 0.7130 - val_loss: 15.6850 - val_accuracy: 0.7222 - lr: 5.0000e-04\n",
            "Epoch 40/200\n",
            "4/4 [==============================] - 21s 6s/step - loss: 17.9998 - accuracy: 0.6898 - val_loss: 15.6914 - val_accuracy: 0.6667 - lr: 5.0000e-04\n",
            "Epoch 41/200\n",
            "4/4 [==============================] - 21s 5s/step - loss: 16.4643 - accuracy: 0.6944 - val_loss: 17.0722 - val_accuracy: 0.6111 - lr: 5.0000e-04\n",
            "Epoch 42/200\n",
            "4/4 [==============================] - 18s 5s/step - loss: 18.7421 - accuracy: 0.6389 - val_loss: 13.2049 - val_accuracy: 0.6852 - lr: 5.0000e-04\n",
            "Epoch 43/200\n",
            "4/4 [==============================] - 21s 5s/step - loss: 16.5462 - accuracy: 0.6991 - val_loss: 14.1672 - val_accuracy: 0.6296 - lr: 5.0000e-04\n",
            "Epoch 44/200\n",
            "4/4 [==============================] - 20s 5s/step - loss: 16.6915 - accuracy: 0.7083 - val_loss: 14.1929 - val_accuracy: 0.7037 - lr: 5.0000e-04\n",
            "Epoch 45/200\n",
            "4/4 [==============================] - 22s 5s/step - loss: 17.5804 - accuracy: 0.7083 - val_loss: 13.1468 - val_accuracy: 0.6667 - lr: 5.0000e-04\n",
            "Epoch 46/200\n",
            "4/4 [==============================] - 21s 5s/step - loss: 18.1070 - accuracy: 0.6852 - val_loss: 16.6399 - val_accuracy: 0.6481 - lr: 5.0000e-04\n",
            "Epoch 47/200\n",
            "4/4 [==============================] - 21s 5s/step - loss: 17.1713 - accuracy: 0.7269 - val_loss: 15.1171 - val_accuracy: 0.7037 - lr: 5.0000e-04\n",
            "Epoch 48/200\n",
            "4/4 [==============================] - 22s 5s/step - loss: 16.6468 - accuracy: 0.6898 - val_loss: 13.3187 - val_accuracy: 0.6852 - lr: 5.0000e-04\n",
            "Epoch 49/200\n",
            "4/4 [==============================] - 21s 5s/step - loss: 17.2396 - accuracy: 0.6944 - val_loss: 15.8452 - val_accuracy: 0.6111 - lr: 5.0000e-04\n",
            "Epoch 50/200\n",
            "4/4 [==============================] - 22s 6s/step - loss: 17.7056 - accuracy: 0.7130 - val_loss: 15.1573 - val_accuracy: 0.7037 - lr: 5.0000e-04\n",
            "Epoch 51/200\n",
            "4/4 [==============================] - 21s 6s/step - loss: 17.6967 - accuracy: 0.6806 - val_loss: 19.9397 - val_accuracy: 0.6667 - lr: 5.0000e-04\n",
            "Epoch 52/200\n"
          ]
        },
        {
          "name": "stdout",
          "output_type": "stream",
          "text": [
            "4/4 [==============================] - 20s 5s/step - loss: 17.0787 - accuracy: 0.6944 - val_loss: 14.7657 - val_accuracy: 0.7222 - lr: 5.0000e-04\n",
            "Epoch 53/200\n",
            "4/4 [==============================] - 22s 5s/step - loss: 15.4968 - accuracy: 0.7500 - val_loss: 14.4741 - val_accuracy: 0.6296 - lr: 5.0000e-04\n",
            "Epoch 54/200\n",
            "4/4 [==============================] - 21s 5s/step - loss: 17.2822 - accuracy: 0.6944 - val_loss: 19.3730 - val_accuracy: 0.6296 - lr: 5.0000e-04\n",
            "Epoch 55/200\n",
            "4/4 [==============================] - 21s 5s/step - loss: 17.2612 - accuracy: 0.7176 - val_loss: 15.8786 - val_accuracy: 0.6852 - lr: 5.0000e-04\n",
            "Epoch 56/200\n",
            "4/4 [==============================] - 21s 5s/step - loss: 17.0893 - accuracy: 0.7130 - val_loss: 13.7481 - val_accuracy: 0.7222 - lr: 5.0000e-04\n",
            "Epoch 57/200\n",
            "4/4 [==============================] - 21s 5s/step - loss: 18.9196 - accuracy: 0.6944 - val_loss: 15.4223 - val_accuracy: 0.6481 - lr: 5.0000e-04\n",
            "Epoch 58/200\n",
            "4/4 [==============================] - 22s 6s/step - loss: 15.4660 - accuracy: 0.7361 - val_loss: 14.5252 - val_accuracy: 0.7222 - lr: 5.0000e-04\n",
            "Epoch 59/200\n",
            "4/4 [==============================] - 22s 6s/step - loss: 18.3000 - accuracy: 0.6898 - val_loss: 14.9137 - val_accuracy: 0.6111 - lr: 5.0000e-04\n",
            "Epoch 60/200\n",
            "4/4 [==============================] - 21s 6s/step - loss: 18.0154 - accuracy: 0.6389 - val_loss: 14.4634 - val_accuracy: 0.6667 - lr: 5.0000e-04\n",
            "Epoch 61/200\n",
            "4/4 [==============================] - 21s 6s/step - loss: 16.8078 - accuracy: 0.7130 - val_loss: 17.5577 - val_accuracy: 0.5556 - lr: 5.0000e-04\n",
            "Epoch 62/200\n",
            "4/4 [==============================] - 21s 5s/step - loss: 19.1077 - accuracy: 0.6528 - val_loss: 14.3888 - val_accuracy: 0.7037 - lr: 5.0000e-04\n",
            "Epoch 63/200\n",
            "4/4 [==============================] - 22s 6s/step - loss: 16.9710 - accuracy: 0.6898 - val_loss: 15.6391 - val_accuracy: 0.7037 - lr: 5.0000e-04\n",
            "Epoch 64/200\n",
            "4/4 [==============================] - 22s 6s/step - loss: 20.2038 - accuracy: 0.6713 - val_loss: 13.1358 - val_accuracy: 0.7222 - lr: 5.0000e-04\n",
            "Epoch 65/200\n",
            "4/4 [==============================] - 21s 5s/step - loss: 17.4060 - accuracy: 0.6759 - val_loss: 15.1013 - val_accuracy: 0.6852 - lr: 5.0000e-04\n",
            "Epoch 66/200\n",
            "4/4 [==============================] - 21s 6s/step - loss: 16.9866 - accuracy: 0.6898 - val_loss: 11.6629 - val_accuracy: 0.8148 - lr: 5.0000e-04\n",
            "Epoch 67/200\n",
            "4/4 [==============================] - 20s 5s/step - loss: 17.3814 - accuracy: 0.6852 - val_loss: 14.2062 - val_accuracy: 0.6481 - lr: 5.0000e-04\n",
            "Epoch 68/200\n",
            "4/4 [==============================] - 21s 5s/step - loss: 16.6173 - accuracy: 0.6944 - val_loss: 16.6977 - val_accuracy: 0.6481 - lr: 5.0000e-04\n",
            "Epoch 69/200\n",
            "4/4 [==============================] - 21s 5s/step - loss: 17.3582 - accuracy: 0.7222 - val_loss: 14.7017 - val_accuracy: 0.6852 - lr: 5.0000e-04\n",
            "Epoch 70/200\n",
            "4/4 [==============================] - 20s 5s/step - loss: 16.6768 - accuracy: 0.7083 - val_loss: 15.1094 - val_accuracy: 0.7037 - lr: 5.0000e-04\n",
            "Epoch 71/200\n",
            "4/4 [==============================] - 21s 5s/step - loss: 18.7955 - accuracy: 0.6574 - val_loss: 17.1627 - val_accuracy: 0.6481 - lr: 5.0000e-04\n",
            "Epoch 72/200\n",
            "4/4 [==============================] - 20s 5s/step - loss: 17.8166 - accuracy: 0.6713 - val_loss: 15.2763 - val_accuracy: 0.6667 - lr: 5.0000e-04\n",
            "Epoch 73/200\n",
            "4/4 [==============================] - 22s 5s/step - loss: 15.7905 - accuracy: 0.7083 - val_loss: 14.5230 - val_accuracy: 0.7037 - lr: 5.0000e-04\n",
            "Epoch 74/200\n",
            "4/4 [==============================] - 22s 6s/step - loss: 16.8134 - accuracy: 0.6944 - val_loss: 16.4439 - val_accuracy: 0.6296 - lr: 5.0000e-04\n",
            "Epoch 75/200\n",
            "4/4 [==============================] - 21s 5s/step - loss: 18.0098 - accuracy: 0.7130 - val_loss: 14.3981 - val_accuracy: 0.6296 - lr: 5.0000e-04\n",
            "Epoch 76/200\n",
            "4/4 [==============================] - 21s 6s/step - loss: 15.8934 - accuracy: 0.6852 - val_loss: 13.3442 - val_accuracy: 0.7778 - lr: 5.0000e-04\n",
            "Epoch 77/200\n",
            "4/4 [==============================] - 22s 6s/step - loss: 16.3248 - accuracy: 0.7407 - val_loss: 15.1924 - val_accuracy: 0.6852 - lr: 5.0000e-04\n",
            "Epoch 78/200\n",
            "4/4 [==============================] - 22s 6s/step - loss: 15.7108 - accuracy: 0.7361 - val_loss: 14.3147 - val_accuracy: 0.5926 - lr: 5.0000e-04\n",
            "Epoch 79/200\n",
            "4/4 [==============================] - 21s 6s/step - loss: 16.3645 - accuracy: 0.7083 - val_loss: 12.9449 - val_accuracy: 0.6296 - lr: 5.0000e-04\n",
            "Epoch 80/200\n",
            "4/4 [==============================] - 21s 5s/step - loss: 15.6082 - accuracy: 0.7083 - val_loss: 17.7594 - val_accuracy: 0.6296 - lr: 5.0000e-04\n",
            "Epoch 81/200\n",
            "4/4 [==============================] - 21s 5s/step - loss: 16.9675 - accuracy: 0.7083 - val_loss: 11.8735 - val_accuracy: 0.7593 - lr: 5.0000e-04\n",
            "Epoch 82/200\n",
            "4/4 [==============================] - 17s 4s/step - loss: 16.8999 - accuracy: 0.6574 - val_loss: 12.5771 - val_accuracy: 0.7593 - lr: 5.0000e-04\n",
            "Epoch 83/200\n",
            "4/4 [==============================] - 21s 5s/step - loss: 13.9499 - accuracy: 0.7269 - val_loss: 15.4125 - val_accuracy: 0.6667 - lr: 5.0000e-04\n",
            "Epoch 84/200\n",
            "4/4 [==============================] - 21s 5s/step - loss: 15.9074 - accuracy: 0.6991 - val_loss: 13.9782 - val_accuracy: 0.7037 - lr: 5.0000e-04\n",
            "Epoch 85/200\n",
            "4/4 [==============================] - 21s 5s/step - loss: 16.5223 - accuracy: 0.6898 - val_loss: 12.4812 - val_accuracy: 0.7222 - lr: 5.0000e-04\n",
            "Epoch 86/200\n",
            "4/4 [==============================] - 22s 5s/step - loss: 14.8224 - accuracy: 0.7269 - val_loss: 15.9375 - val_accuracy: 0.7222 - lr: 5.0000e-04\n",
            "Epoch 87/200\n",
            "4/4 [==============================] - 22s 6s/step - loss: 16.3499 - accuracy: 0.7315 - val_loss: 15.6302 - val_accuracy: 0.6296 - lr: 5.0000e-04\n",
            "Epoch 88/200\n",
            "4/4 [==============================] - 21s 6s/step - loss: 14.6094 - accuracy: 0.7315 - val_loss: 13.7019 - val_accuracy: 0.6481 - lr: 5.0000e-04\n",
            "Epoch 89/200\n",
            "4/4 [==============================] - 21s 6s/step - loss: 16.3713 - accuracy: 0.6713 - val_loss: 12.5350 - val_accuracy: 0.7593 - lr: 5.0000e-04\n",
            "Epoch 90/200\n",
            "4/4 [==============================] - 21s 6s/step - loss: 14.9750 - accuracy: 0.7176 - val_loss: 13.3070 - val_accuracy: 0.6481 - lr: 5.0000e-04\n",
            "Epoch 91/200\n",
            "4/4 [==============================] - 21s 6s/step - loss: 14.3305 - accuracy: 0.7500 - val_loss: 13.1618 - val_accuracy: 0.7222 - lr: 5.0000e-04\n",
            "Epoch 92/200\n",
            "4/4 [==============================] - 22s 6s/step - loss: 15.1466 - accuracy: 0.6759 - val_loss: 15.1106 - val_accuracy: 0.7037 - lr: 5.0000e-04\n",
            "Epoch 93/200\n",
            "4/4 [==============================] - 22s 6s/step - loss: 14.5104 - accuracy: 0.7269 - val_loss: 13.5252 - val_accuracy: 0.6481 - lr: 5.0000e-04\n",
            "Epoch 94/200\n",
            "4/4 [==============================] - 21s 6s/step - loss: 16.4502 - accuracy: 0.7130 - val_loss: 12.0966 - val_accuracy: 0.6667 - lr: 5.0000e-04\n",
            "Epoch 95/200\n",
            "4/4 [==============================] - 21s 6s/step - loss: 14.6974 - accuracy: 0.7639 - val_loss: 16.7372 - val_accuracy: 0.6111 - lr: 5.0000e-04\n",
            "Epoch 96/200\n",
            "4/4 [==============================] - 21s 5s/step - loss: 15.1878 - accuracy: 0.7083 - val_loss: 13.6491 - val_accuracy: 0.6111 - lr: 5.0000e-04\n",
            "Epoch 97/200\n",
            "4/4 [==============================] - 20s 5s/step - loss: 14.8104 - accuracy: 0.6991 - val_loss: 11.0559 - val_accuracy: 0.7407 - lr: 5.0000e-04\n",
            "Epoch 98/200\n",
            "4/4 [==============================] - 22s 6s/step - loss: 13.6224 - accuracy: 0.7454 - val_loss: 10.3380 - val_accuracy: 0.7407 - lr: 5.0000e-04\n",
            "Epoch 99/200\n",
            "4/4 [==============================] - 21s 5s/step - loss: 15.5910 - accuracy: 0.7083 - val_loss: 13.7132 - val_accuracy: 0.6667 - lr: 5.0000e-04\n",
            "Epoch 100/200\n",
            "4/4 [==============================] - 21s 5s/step - loss: 13.6211 - accuracy: 0.7361 - val_loss: 11.6256 - val_accuracy: 0.6111 - lr: 5.0000e-04\n",
            "Epoch 101/200\n",
            "4/4 [==============================] - 19s 5s/step - loss: 12.7045 - accuracy: 0.7639 - val_loss: 13.9540 - val_accuracy: 0.7037 - lr: 5.0000e-04\n",
            "Epoch 102/200\n",
            "4/4 [==============================] - 22s 5s/step - loss: 16.1455 - accuracy: 0.6713 - val_loss: 12.9171 - val_accuracy: 0.6852 - lr: 5.0000e-04\n",
            "Epoch 103/200\n"
          ]
        },
        {
          "name": "stdout",
          "output_type": "stream",
          "text": [
            "4/4 [==============================] - 22s 5s/step - loss: 13.1227 - accuracy: 0.7500 - val_loss: 11.8268 - val_accuracy: 0.7407 - lr: 5.0000e-04\n",
            "Epoch 104/200\n",
            "4/4 [==============================] - 21s 5s/step - loss: 14.8189 - accuracy: 0.7269 - val_loss: 12.0061 - val_accuracy: 0.7037 - lr: 5.0000e-04\n",
            "Epoch 105/200\n",
            "4/4 [==============================] - 22s 6s/step - loss: 12.7303 - accuracy: 0.7500 - val_loss: 15.6261 - val_accuracy: 0.6481 - lr: 5.0000e-04\n",
            "Epoch 106/200\n",
            "4/4 [==============================] - 22s 6s/step - loss: 15.1004 - accuracy: 0.6991 - val_loss: 15.4477 - val_accuracy: 0.6481 - lr: 5.0000e-04\n",
            "Epoch 107/200\n",
            "4/4 [==============================] - 21s 6s/step - loss: 12.8788 - accuracy: 0.7407 - val_loss: 12.5312 - val_accuracy: 0.6296 - lr: 5.0000e-04\n",
            "Epoch 108/200\n",
            "4/4 [==============================] - 20s 5s/step - loss: 14.3197 - accuracy: 0.7083 - val_loss: 10.7215 - val_accuracy: 0.7407 - lr: 5.0000e-04\n",
            "Epoch 109/200\n",
            "4/4 [==============================] - 21s 5s/step - loss: 12.7502 - accuracy: 0.7222 - val_loss: 13.4361 - val_accuracy: 0.6667 - lr: 5.0000e-04\n",
            "Epoch 110/200\n",
            "4/4 [==============================] - 15s 4s/step - loss: 12.7667 - accuracy: 0.7315 - val_loss: 11.9467 - val_accuracy: 0.6296 - lr: 5.0000e-04\n",
            "Epoch 111/200\n",
            "4/4 [==============================] - 12s 3s/step - loss: 13.8383 - accuracy: 0.7454 - val_loss: 11.7804 - val_accuracy: 0.7037 - lr: 5.0000e-04\n",
            "Epoch 112/200\n",
            "4/4 [==============================] - 22s 6s/step - loss: 13.4574 - accuracy: 0.7315 - val_loss: 11.6867 - val_accuracy: 0.6852 - lr: 5.0000e-04\n",
            "Epoch 113/200\n",
            "4/4 [==============================] - 20s 6s/step - loss: 12.7463 - accuracy: 0.7500 - val_loss: 12.3246 - val_accuracy: 0.7593 - lr: 5.0000e-04\n",
            "Epoch 114/200\n",
            "4/4 [==============================] - 23s 6s/step - loss: 14.4910 - accuracy: 0.6759 - val_loss: 9.9978 - val_accuracy: 0.7963 - lr: 5.0000e-04\n",
            "Epoch 115/200\n",
            "4/4 [==============================] - 22s 6s/step - loss: 14.8309 - accuracy: 0.6991 - val_loss: 12.0185 - val_accuracy: 0.6481 - lr: 5.0000e-04\n",
            "Epoch 116/200\n",
            "4/4 [==============================] - 21s 6s/step - loss: 15.3296 - accuracy: 0.6944 - val_loss: 13.1422 - val_accuracy: 0.7037 - lr: 5.0000e-04\n",
            "Epoch 117/200\n",
            "4/4 [==============================] - 22s 6s/step - loss: 15.2538 - accuracy: 0.7037 - val_loss: 12.5489 - val_accuracy: 0.7037 - lr: 5.0000e-04\n",
            "Epoch 118/200\n",
            "4/4 [==============================] - 22s 6s/step - loss: 14.9040 - accuracy: 0.6759 - val_loss: 11.1000 - val_accuracy: 0.6481 - lr: 5.0000e-04\n",
            "Epoch 119/200\n",
            "4/4 [==============================] - 20s 5s/step - loss: 12.2812 - accuracy: 0.7407 - val_loss: 13.8362 - val_accuracy: 0.7037 - lr: 5.0000e-04\n",
            "Epoch 120/200\n",
            "4/4 [==============================] - 21s 5s/step - loss: 12.5422 - accuracy: 0.7546 - val_loss: 11.5601 - val_accuracy: 0.7407 - lr: 5.0000e-04\n",
            "Epoch 121/200\n",
            "4/4 [==============================] - 21s 5s/step - loss: 12.5732 - accuracy: 0.7500 - val_loss: 13.3506 - val_accuracy: 0.6852 - lr: 5.0000e-04\n",
            "Epoch 122/200\n",
            "4/4 [==============================] - 24s 6s/step - loss: 13.0068 - accuracy: 0.6944 - val_loss: 9.5091 - val_accuracy: 0.7407 - lr: 5.0000e-04\n",
            "Epoch 123/200\n",
            "4/4 [==============================] - 23s 5s/step - loss: 12.8146 - accuracy: 0.7361 - val_loss: 15.2290 - val_accuracy: 0.6111 - lr: 5.0000e-04\n",
            "Epoch 124/200\n",
            "4/4 [==============================] - 21s 5s/step - loss: 12.5713 - accuracy: 0.7176 - val_loss: 13.1174 - val_accuracy: 0.7407 - lr: 5.0000e-04\n",
            "Epoch 125/200\n",
            "4/4 [==============================] - 21s 5s/step - loss: 15.3359 - accuracy: 0.6620 - val_loss: 12.9482 - val_accuracy: 0.6667 - lr: 5.0000e-04\n",
            "Epoch 126/200\n",
            "4/4 [==============================] - 21s 5s/step - loss: 13.5158 - accuracy: 0.7130 - val_loss: 14.9386 - val_accuracy: 0.5926 - lr: 5.0000e-04\n",
            "Epoch 127/200\n",
            "4/4 [==============================] - 22s 5s/step - loss: 13.1682 - accuracy: 0.7315 - val_loss: 12.9618 - val_accuracy: 0.6667 - lr: 5.0000e-04\n",
            "Epoch 128/200\n",
            "4/4 [==============================] - 22s 6s/step - loss: 14.0947 - accuracy: 0.6759 - val_loss: 13.8258 - val_accuracy: 0.7037 - lr: 5.0000e-04\n",
            "Epoch 129/200\n",
            "4/4 [==============================] - 22s 5s/step - loss: 11.7535 - accuracy: 0.7454 - val_loss: 11.9724 - val_accuracy: 0.6852 - lr: 5.0000e-04\n",
            "Epoch 130/200\n",
            "4/4 [==============================] - 22s 5s/step - loss: 12.6389 - accuracy: 0.7083 - val_loss: 11.8850 - val_accuracy: 0.6481 - lr: 5.0000e-04\n",
            "Epoch 131/200\n",
            "4/4 [==============================] - 22s 6s/step - loss: 13.9547 - accuracy: 0.7269 - val_loss: 12.7195 - val_accuracy: 0.7037 - lr: 5.0000e-04\n",
            "Epoch 132/200\n",
            "4/4 [==============================] - 22s 6s/step - loss: 13.4629 - accuracy: 0.7037 - val_loss: 11.2921 - val_accuracy: 0.7593 - lr: 5.0000e-04\n",
            "Epoch 133/200\n",
            "4/4 [==============================] - 21s 6s/step - loss: 12.9939 - accuracy: 0.7407 - val_loss: 13.3080 - val_accuracy: 0.6667 - lr: 5.0000e-04\n",
            "Epoch 134/200\n",
            "4/4 [==============================] - 23s 6s/step - loss: 14.4446 - accuracy: 0.7222 - val_loss: 10.9756 - val_accuracy: 0.6852 - lr: 5.0000e-04\n",
            "Epoch 135/200\n",
            "4/4 [==============================] - 25s 6s/step - loss: 11.9771 - accuracy: 0.7731 - val_loss: 11.3515 - val_accuracy: 0.7222 - lr: 5.0000e-04\n",
            "Epoch 136/200\n",
            "4/4 [==============================] - 21s 6s/step - loss: 12.9899 - accuracy: 0.7407 - val_loss: 12.6863 - val_accuracy: 0.6852 - lr: 5.0000e-04\n",
            "Epoch 137/200\n",
            "4/4 [==============================] - 21s 5s/step - loss: 11.7965 - accuracy: 0.7593 - val_loss: 11.2218 - val_accuracy: 0.7037 - lr: 5.0000e-04\n",
            "Epoch 138/200\n",
            "4/4 [==============================] - 22s 6s/step - loss: 12.1625 - accuracy: 0.7454 - val_loss: 9.2422 - val_accuracy: 0.6852 - lr: 5.0000e-04\n",
            "Epoch 139/200\n",
            "4/4 [==============================] - 23s 6s/step - loss: 11.6514 - accuracy: 0.7639 - val_loss: 8.5689 - val_accuracy: 0.7222 - lr: 5.0000e-04\n",
            "Epoch 140/200\n",
            "4/4 [==============================] - 15s 4s/step - loss: 13.0187 - accuracy: 0.7269 - val_loss: 13.6342 - val_accuracy: 0.5926 - lr: 5.0000e-04\n",
            "Epoch 141/200\n",
            "4/4 [==============================] - 12s 3s/step - loss: 11.2899 - accuracy: 0.6991 - val_loss: 11.1807 - val_accuracy: 0.7222 - lr: 5.0000e-04\n",
            "Epoch 142/200\n",
            "4/4 [==============================] - 22s 6s/step - loss: 10.7297 - accuracy: 0.7454 - val_loss: 12.4666 - val_accuracy: 0.6667 - lr: 5.0000e-04\n",
            "Epoch 143/200\n",
            "4/4 [==============================] - 21s 6s/step - loss: 9.7933 - accuracy: 0.7870 - val_loss: 11.3038 - val_accuracy: 0.6852 - lr: 5.0000e-04\n",
            "Epoch 144/200\n",
            "4/4 [==============================] - 22s 6s/step - loss: 10.8734 - accuracy: 0.7500 - val_loss: 10.5533 - val_accuracy: 0.7593 - lr: 5.0000e-04\n",
            "Epoch 145/200\n",
            "4/4 [==============================] - 22s 6s/step - loss: 11.4477 - accuracy: 0.7315 - val_loss: 11.2699 - val_accuracy: 0.6481 - lr: 5.0000e-04\n",
            "Epoch 146/200\n",
            "4/4 [==============================] - 22s 6s/step - loss: 12.7576 - accuracy: 0.6944 - val_loss: 11.6050 - val_accuracy: 0.6481 - lr: 5.0000e-04\n",
            "Epoch 147/200\n",
            "4/4 [==============================] - 22s 6s/step - loss: 11.2664 - accuracy: 0.7454 - val_loss: 9.2176 - val_accuracy: 0.7407 - lr: 5.0000e-04\n",
            "Epoch 148/200\n",
            "4/4 [==============================] - 21s 6s/step - loss: 11.1135 - accuracy: 0.7083 - val_loss: 9.8111 - val_accuracy: 0.7222 - lr: 5.0000e-04\n",
            "Epoch 149/200\n",
            "4/4 [==============================] - 20s 5s/step - loss: 11.3183 - accuracy: 0.7407 - val_loss: 10.6157 - val_accuracy: 0.7037 - lr: 5.0000e-04\n",
            "Epoch 150/200\n",
            "4/4 [==============================] - 21s 5s/step - loss: 10.2921 - accuracy: 0.7593 - val_loss: 11.7453 - val_accuracy: 0.6111 - lr: 5.0000e-04\n",
            "Epoch 151/200\n",
            "4/4 [==============================] - 21s 5s/step - loss: 10.4244 - accuracy: 0.7731 - val_loss: 9.6189 - val_accuracy: 0.7222 - lr: 5.0000e-04\n",
            "Epoch 152/200\n",
            "4/4 [==============================] - 20s 5s/step - loss: 11.4995 - accuracy: 0.7361 - val_loss: 11.5055 - val_accuracy: 0.6667 - lr: 5.0000e-04\n",
            "Epoch 153/200\n",
            "4/4 [==============================] - 13s 3s/step - loss: 9.6522 - accuracy: 0.8056 - val_loss: 10.8490 - val_accuracy: 0.7037 - lr: 5.0000e-04\n",
            "Epoch 154/200\n"
          ]
        },
        {
          "name": "stdout",
          "output_type": "stream",
          "text": [
            "4/4 [==============================] - 17s 4s/step - loss: 11.2459 - accuracy: 0.6944 - val_loss: 9.7129 - val_accuracy: 0.7407 - lr: 5.0000e-04\n",
            "Epoch 155/200\n",
            "4/4 [==============================] - 16s 4s/step - loss: 10.5756 - accuracy: 0.7454 - val_loss: 9.4829 - val_accuracy: 0.7407 - lr: 5.0000e-04\n",
            "Epoch 156/200\n",
            "4/4 [==============================] - 14s 3s/step - loss: 11.0346 - accuracy: 0.7361 - val_loss: 9.0763 - val_accuracy: 0.6667 - lr: 5.0000e-04\n",
            "Epoch 157/200\n",
            "4/4 [==============================] - 12s 3s/step - loss: 10.4923 - accuracy: 0.7269 - val_loss: 9.5565 - val_accuracy: 0.7222 - lr: 5.0000e-04\n",
            "Epoch 158/200\n",
            "4/4 [==============================] - 13s 3s/step - loss: 11.3024 - accuracy: 0.7407 - val_loss: 9.6076 - val_accuracy: 0.7037 - lr: 5.0000e-04\n",
            "Epoch 159/200\n",
            "4/4 [==============================] - 13s 3s/step - loss: 9.8049 - accuracy: 0.7824 - val_loss: 10.3893 - val_accuracy: 0.7222 - lr: 5.0000e-04\n",
            "Epoch 160/200\n",
            "4/4 [==============================] - 13s 3s/step - loss: 9.5227 - accuracy: 0.7917 - val_loss: 10.5143 - val_accuracy: 0.6667 - lr: 5.0000e-04\n",
            "Epoch 161/200\n",
            "4/4 [==============================] - 12s 3s/step - loss: 9.4393 - accuracy: 0.7778 - val_loss: 9.2356 - val_accuracy: 0.7222 - lr: 5.0000e-04\n",
            "Epoch 162/200\n",
            "4/4 [==============================] - 13s 3s/step - loss: 10.0942 - accuracy: 0.7639 - val_loss: 8.3320 - val_accuracy: 0.6852 - lr: 5.0000e-04\n",
            "Epoch 163/200\n",
            "4/4 [==============================] - 12s 3s/step - loss: 9.6605 - accuracy: 0.7870 - val_loss: 10.2678 - val_accuracy: 0.6481 - lr: 5.0000e-04\n",
            "Epoch 164/200\n",
            "4/4 [==============================] - 12s 3s/step - loss: 9.4101 - accuracy: 0.7546 - val_loss: 10.0695 - val_accuracy: 0.6296 - lr: 5.0000e-04\n",
            "Epoch 165/200\n",
            "4/4 [==============================] - 12s 3s/step - loss: 9.6755 - accuracy: 0.7546 - val_loss: 9.4745 - val_accuracy: 0.6852 - lr: 5.0000e-04\n",
            "Epoch 166/200\n",
            "4/4 [==============================] - 13s 3s/step - loss: 9.7972 - accuracy: 0.7454 - val_loss: 8.8765 - val_accuracy: 0.7222 - lr: 5.0000e-04\n",
            "Epoch 167/200\n",
            "4/4 [==============================] - 12s 3s/step - loss: 8.6667 - accuracy: 0.8102 - val_loss: 10.2370 - val_accuracy: 0.7037 - lr: 5.0000e-04\n",
            "Epoch 168/200\n",
            "4/4 [==============================] - 12s 3s/step - loss: 10.9876 - accuracy: 0.7083 - val_loss: 8.6347 - val_accuracy: 0.6852 - lr: 5.0000e-04\n",
            "Epoch 169/200\n",
            "4/4 [==============================] - 12s 3s/step - loss: 10.9800 - accuracy: 0.7315 - val_loss: 10.2773 - val_accuracy: 0.6667 - lr: 5.0000e-04\n",
            "Epoch 170/200\n",
            "4/4 [==============================] - 13s 3s/step - loss: 9.8521 - accuracy: 0.7731 - val_loss: 10.7281 - val_accuracy: 0.6667 - lr: 5.0000e-04\n",
            "Epoch 171/200\n",
            "4/4 [==============================] - 13s 3s/step - loss: 9.2059 - accuracy: 0.7315 - val_loss: 9.6960 - val_accuracy: 0.6296 - lr: 5.0000e-04\n",
            "Epoch 172/200\n",
            "4/4 [==============================] - 13s 3s/step - loss: 8.9409 - accuracy: 0.7731 - val_loss: 8.0188 - val_accuracy: 0.7778 - lr: 5.0000e-04\n",
            "Epoch 173/200\n",
            "4/4 [==============================] - 20s 6s/step - loss: 9.2811 - accuracy: 0.7870 - val_loss: 8.5333 - val_accuracy: 0.7593 - lr: 5.0000e-04\n",
            "Epoch 174/200\n",
            "4/4 [==============================] - 16s 4s/step - loss: 9.9890 - accuracy: 0.7639 - val_loss: 7.9469 - val_accuracy: 0.6852 - lr: 5.0000e-04\n",
            "Epoch 175/200\n",
            "4/4 [==============================] - 21s 6s/step - loss: 9.6744 - accuracy: 0.7315 - val_loss: 11.3112 - val_accuracy: 0.6667 - lr: 5.0000e-04\n",
            "Epoch 176/200\n",
            "4/4 [==============================] - 22s 6s/step - loss: 10.5200 - accuracy: 0.6944 - val_loss: 11.1907 - val_accuracy: 0.6481 - lr: 5.0000e-04\n",
            "Epoch 177/200\n",
            "4/4 [==============================] - 20s 5s/step - loss: 10.0099 - accuracy: 0.7176 - val_loss: 9.2722 - val_accuracy: 0.6667 - lr: 5.0000e-04\n",
            "Epoch 178/200\n",
            "4/4 [==============================] - 26s 6s/step - loss: 9.0684 - accuracy: 0.7685 - val_loss: 8.4005 - val_accuracy: 0.7407 - lr: 5.0000e-04\n",
            "Epoch 179/200\n",
            "4/4 [==============================] - 23s 5s/step - loss: 9.7711 - accuracy: 0.7361 - val_loss: 8.9693 - val_accuracy: 0.6481 - lr: 5.0000e-04\n",
            "Epoch 180/200\n",
            "4/4 [==============================] - 24s 6s/step - loss: 9.4007 - accuracy: 0.7315 - val_loss: 10.7952 - val_accuracy: 0.7037 - lr: 5.0000e-04\n",
            "Epoch 181/200\n",
            "4/4 [==============================] - 13s 3s/step - loss: 9.6580 - accuracy: 0.7685 - val_loss: 8.6942 - val_accuracy: 0.7037 - lr: 5.0000e-04\n",
            "Epoch 182/200\n",
            "4/4 [==============================] - 20s 6s/step - loss: 9.8370 - accuracy: 0.7269 - val_loss: 8.0871 - val_accuracy: 0.7593 - lr: 5.0000e-04\n",
            "Epoch 183/200\n",
            "4/4 [==============================] - 22s 6s/step - loss: 9.3554 - accuracy: 0.7593 - val_loss: 10.5337 - val_accuracy: 0.5926 - lr: 5.0000e-04\n",
            "Epoch 184/200\n",
            "4/4 [==============================] - 22s 5s/step - loss: 9.9882 - accuracy: 0.7546 - val_loss: 11.8671 - val_accuracy: 0.5926 - lr: 5.0000e-04\n",
            "Epoch 185/200\n",
            "4/4 [==============================] - 23s 6s/step - loss: 9.8110 - accuracy: 0.7639 - val_loss: 7.5835 - val_accuracy: 0.7593 - lr: 5.0000e-04\n",
            "Epoch 186/200\n",
            "4/4 [==============================] - 24s 6s/step - loss: 9.9706 - accuracy: 0.7361 - val_loss: 7.1763 - val_accuracy: 0.7407 - lr: 5.0000e-04\n",
            "Epoch 187/200\n",
            "4/4 [==============================] - 21s 5s/step - loss: 10.0483 - accuracy: 0.7037 - val_loss: 12.7538 - val_accuracy: 0.5741 - lr: 5.0000e-04\n",
            "Epoch 188/200\n",
            "4/4 [==============================] - 22s 5s/step - loss: 9.0318 - accuracy: 0.7917 - val_loss: 10.6290 - val_accuracy: 0.6481 - lr: 5.0000e-04\n",
            "Epoch 189/200\n",
            "4/4 [==============================] - 22s 5s/step - loss: 9.1855 - accuracy: 0.7500 - val_loss: 9.5118 - val_accuracy: 0.6111 - lr: 5.0000e-04\n",
            "Epoch 190/200\n",
            "4/4 [==============================] - 20s 5s/step - loss: 9.2061 - accuracy: 0.7361 - val_loss: 8.6702 - val_accuracy: 0.6111 - lr: 5.0000e-04\n",
            "Epoch 191/200\n",
            "4/4 [==============================] - 22s 5s/step - loss: 9.9349 - accuracy: 0.7361 - val_loss: 9.9668 - val_accuracy: 0.6667 - lr: 5.0000e-04\n",
            "Epoch 192/200\n",
            "4/4 [==============================] - 22s 5s/step - loss: 9.5553 - accuracy: 0.7361 - val_loss: 9.1970 - val_accuracy: 0.6111 - lr: 5.0000e-04\n",
            "Epoch 193/200\n",
            "4/4 [==============================] - 22s 6s/step - loss: 9.2690 - accuracy: 0.7546 - val_loss: 7.9017 - val_accuracy: 0.7037 - lr: 5.0000e-04\n",
            "Epoch 194/200\n",
            "4/4 [==============================] - 21s 6s/step - loss: 8.5233 - accuracy: 0.7593 - val_loss: 10.1248 - val_accuracy: 0.6481 - lr: 5.0000e-04\n",
            "Epoch 195/200\n",
            "4/4 [==============================] - 21s 6s/step - loss: 9.2125 - accuracy: 0.7407 - val_loss: 9.2966 - val_accuracy: 0.7222 - lr: 5.0000e-04\n",
            "Epoch 196/200\n",
            "4/4 [==============================] - 21s 5s/step - loss: 8.9113 - accuracy: 0.7500 - val_loss: 9.3653 - val_accuracy: 0.6852 - lr: 5.0000e-04\n",
            "Epoch 197/200\n",
            "4/4 [==============================] - 22s 6s/step - loss: 10.2471 - accuracy: 0.7037 - val_loss: 8.0561 - val_accuracy: 0.7407 - lr: 5.0000e-04\n",
            "Epoch 198/200\n",
            "4/4 [==============================] - 21s 5s/step - loss: 8.4938 - accuracy: 0.7731 - val_loss: 9.1206 - val_accuracy: 0.6852 - lr: 5.0000e-04\n",
            "Epoch 199/200\n",
            "4/4 [==============================] - 22s 5s/step - loss: 8.8713 - accuracy: 0.7685 - val_loss: 9.4406 - val_accuracy: 0.6667 - lr: 5.0000e-04\n",
            "Epoch 200/200\n",
            "4/4 [==============================] - 22s 5s/step - loss: 9.4983 - accuracy: 0.7315 - val_loss: 7.9557 - val_accuracy: 0.7037 - lr: 5.0000e-04\n"
          ]
        }
      ],
      "source": [
        "#FIT MODEL\n",
        "print(len(train_batches))\n",
        "print(len(valid_batches))\n",
        "\n",
        "STEP_SIZE_TRAIN=train_batches.n//train_batches.batch_size\n",
        "STEP_SIZE_VALID=valid_batches.n//valid_batches.batch_size\n",
        "\n",
        "model_checkpoint_callback = tf.keras.callbacks.ModelCheckpoint(\n",
        "    filepath=\"Task2_best_weight_Xception\",\n",
        "    save_weights_only=True,\n",
        "    monitor='val_loss',\n",
        "    mode='min',\n",
        "    save_best_only=True)\n",
        "reduce_lr = tf.keras.callbacks.ReduceLROnPlateau(monitor='val_loss', factor=0.2,\n",
        "                              patience=5, min_lr=0.001)\n",
        "\n",
        "#raise NotImplementedError(\"Use the model.fit function to train your network\")\n",
        "model.compile(loss=tf.keras.losses.CategoricalCrossentropy(from_logits = True),optimizer = tf.keras.optimizers.Adam(learning_rate = LEARNING_RATE), metrics = ['accuracy'])\n",
        "history = model.fit(train_batches, epochs = NUM_EPOCHS, batch_size = BATCH_SIZE,validation_data = valid_batches,steps_per_epoch = STEP_SIZE_TRAIN,validation_steps = STEP_SIZE_VALID, callbacks=[model_checkpoint_callback,reduce_lr])"
      ]
    },
    {
      "cell_type": "markdown",
      "metadata": {
        "nbpresent": {
          "id": "66140980-2aa4-457f-b1df-74c10c234cc2"
        },
        "id": "WJ2_xOa54hkp"
      },
      "source": [
        "#### [5 points] Plot Accuracy and Loss During Training"
      ]
    },
    {
      "cell_type": "code",
      "execution_count": null,
      "metadata": {
        "nbpresent": {
          "id": "ff342098-784a-4e20-ac34-b74ca8ebe839"
        },
        "id": "DN2M67Er4hkq",
        "outputId": "bf3f65b4-c0d6-4d8d-cd6b-8cff2f8e6b97"
      },
      "outputs": [
        {
          "data": {
            "image/png": "[encoded data removed]",
            "text/plain": [
              "<Figure size 432x288 with 1 Axes>"
            ]
          },
          "metadata": {
            "needs_background": "light"
          },
          "output_type": "display_data"
        },
        {
          "data": {
            "image/png": "[encoded data removed]",
            "text/plain": [
              "<Figure size 432x288 with 1 Axes>"
            ]
          },
          "metadata": {
            "needs_background": "light"
          },
          "output_type": "display_data"
        }
      ],
      "source": [
        "import matplotlib.pyplot as plt\n",
        "\n",
        "# summarize history for accuracy\n",
        "plt.plot(history.history['accuracy'])\n",
        "plt.plot(history.history['val_accuracy'])\n",
        "plt.title('model accuracy')\n",
        "plt.ylabel('accuracy')\n",
        "plt.xlabel('epoch')\n",
        "plt.legend(['train', 'test'], loc='upper left')\n",
        "plt.show()\n",
        "# summarize history for loss\n",
        "plt.plot(history.history['loss'])\n",
        "plt.plot(history.history['val_loss'])\n",
        "plt.title('model loss')\n",
        "plt.ylabel('loss')\n",
        "plt.xlabel('epoch')\n",
        "plt.legend(['train', 'test'], loc='upper left')\n",
        "plt.show()"
      ]
    },
    {
      "cell_type": "markdown",
      "metadata": {
        "nbpresent": {
          "id": "66140980-2aa4-457f-b1df-74c10c234cc2"
        },
        "id": "2nQeN3cd4hkq"
      },
      "source": [
        "#### Testing Model"
      ]
    },
    {
      "cell_type": "code",
      "execution_count": null,
      "metadata": {
        "id": "HAnQm9Go4hkr",
        "outputId": "c861cdb8-6211-4a74-c2cb-990f7c10076d"
      },
      "outputs": [
        {
          "name": "stdout",
          "output_type": "stream",
          "text": [
            "Found 36 images belonging to 4 classes.\n",
            "36\n"
          ]
        },
        {
          "name": "stderr",
          "output_type": "stream",
          "text": [
            "C:\\Users\\woody\\AppData\\Local\\Temp\\ipykernel_23412\\463003407.py:7: UserWarning: `Model.evaluate_generator` is deprecated and will be removed in a future version. Please use `Model.evaluate`, which supports generators.\n",
            "  x = model.evaluate_generator(eval_generator,steps = np.ceil(len(eval_generator)),\n"
          ]
        },
        {
          "name": "stdout",
          "output_type": "stream",
          "text": [
            "36/36 [==============================] - 7s 186ms/step - loss: 7.7627 - accuracy: 0.8333\n",
            "Test loss: 7.7627434730529785\n",
            "Test accuracy: 0.8333333134651184\n"
          ]
        }
      ],
      "source": [
        "test_datagen = ImageDataGenerator(rescale=1. / 255)\n",
        "\n",
        "eval_generator = test_datagen.flow_from_directory(TEST_DIR,target_size=IMAGE_SIZE,\n",
        "                                                  batch_size=1,shuffle=True,seed=42,class_mode=\"categorical\")\n",
        "eval_generator.reset()\n",
        "print(len(eval_generator))\n",
        "x = model.evaluate_generator(eval_generator,steps = np.ceil(len(eval_generator)),\n",
        "                           use_multiprocessing = False,verbose = 1,workers=1)\n",
        "print('Test loss:' , x[0])\n",
        "print('Test accuracy:',x[1])"
      ]
    },
    {
      "cell_type": "markdown",
      "metadata": {
        "nbpresent": {
          "id": "66140980-2aa4-457f-b1df-74c10c234cc2"
        },
        "id": "98gXtPrp4hks"
      },
      "source": [
        "## [10 points] TSNE Plot\n",
        "t-Distributed Stochastic Neighbor Embedding (t-SNE) is a widely used technique for dimensionality reduction that is particularly well suited for the visualization of high-dimensional datasets. After training is complete, extract features from a specific deep layer of your choice, use t-SNE to reduce the dimensionality of your extracted features to 2 dimensions and plot the resulting 2D features."
      ]
    },
    {
      "cell_type": "code",
      "execution_count": null,
      "metadata": {
        "id": "Ksgvir2_4hks",
        "outputId": "2c282379-5f01-41cc-968d-98d238ebc2af"
      },
      "outputs": [
        {
          "name": "stdout",
          "output_type": "stream",
          "text": [
            "Found 270 images belonging to 4 classes.\n"
          ]
        },
        {
          "name": "stderr",
          "output_type": "stream",
          "text": [
            "C:\\Users\\woody\\AppData\\Local\\Temp\\ipykernel_23412\\429691970.py:10: UserWarning: `Model.predict_generator` is deprecated and will be removed in a future version. Please use `Model.predict`, which supports generators.\n",
            "  pred = intermediate_layer_model.predict_generator(tsne_eval_generator)\n",
            "C:\\Users\\woody\\AppData\\Local\\Programs\\Python\\Python310\\lib\\site-packages\\sklearn\\manifold\\_t_sne.py:780: FutureWarning: The default initialization in TSNE will change from 'random' to 'pca' in 1.2.\n",
            "  warnings.warn(\n",
            "C:\\Users\\woody\\AppData\\Local\\Programs\\Python\\Python310\\lib\\site-packages\\sklearn\\manifold\\_t_sne.py:790: FutureWarning: The default learning rate in TSNE will change from 200.0 to 'auto' in 1.2.\n",
            "  warnings.warn(\n"
          ]
        },
        {
          "data": {
            "text/plain": [
              "<matplotlib.legend.Legend at 0x1cc2caaf640>"
            ]
          },
          "execution_count": 8,
          "metadata": {},
          "output_type": "execute_result"
        },
        {
          "data": {
            "image/png": "[encoded data removed]",
            "text/plain": [
              "<Figure size 432x288 with 1 Axes>"
            ]
          },
          "metadata": {
            "needs_background": "light"
          },
          "output_type": "display_data"
        }
      ],
      "source": [
        "from sklearn.manifold import TSNE\n",
        "\n",
        "intermediate_layer_model = tf.keras.Model(inputs=model.input,\n",
        "                                        outputs=model.get_layer('dense_2').output)\n",
        "\n",
        "tsne_eval_generator = test_datagen.flow_from_directory(DATASET_PATH,target_size=IMAGE_SIZE,\n",
        "                                                  batch_size=1,shuffle=False,seed=42,class_mode=\"categorical\")\n",
        "\n",
        "tsne_eval_generator.reset()\n",
        "pred = intermediate_layer_model.predict_generator(tsne_eval_generator)\n",
        "\n",
        "tsne = TSNE(n_components=2,method='exact')\n",
        "'''\n",
        "\n",
        "    * use the generator to get images, pass them to interemediate_layer_model \n",
        "    * collect the output features into an array \n",
        "    * feed that array into fit_transform \n",
        "\n",
        "'''\n",
        "        \n",
        "\n",
        "\n",
        "#X_2d = tsne.fit_transform(pred)\n",
        "tsne_result = tsne.fit_transform(pred)\n",
        "scatter = plt.scatter(tsne_result[:,0], tsne_result[:,1], c=tsne_eval_generator.labels)\n",
        "handles, _ = scatter.legend_elements(prop='colors')\n",
        "plt.legend(handles, [\"Covid19\",\"Normal\",\"bac\",\"vir\"])\n",
        "\n",
        "\n"
      ]
    },
    {
      "cell_type": "markdown",
      "metadata": {
        "id": "MqbINyaG4hkt"
      },
      "source": [
        "<!-- ## Task 2: COVID-19 vs Normal vs Tertiary Pneumonia (Bacterial and Viral) -->"
      ]
    },
    {
      "cell_type": "markdown",
      "metadata": {
        "nbpresent": {
          "id": "66140980-2aa4-457f-b1df-74c10c234cc2"
        },
        "id": "IxtK4mh44hku"
      },
      "source": [
        "<!-- #### Renew Training Batch and Validation Batch -->"
      ]
    },
    {
      "cell_type": "markdown",
      "metadata": {
        "nbpresent": {
          "id": "66140980-2aa4-457f-b1df-74c10c234cc2"
        },
        "id": "ykOxFaCt4hku"
      },
      "source": [
        "<!-- #### Renew Model -->"
      ]
    }
  ],
  "metadata": {
    "kernelspec": {
      "display_name": "Python 3 (ipykernel)",
      "language": "python",
      "name": "python3"
    },
    "language_info": {
      "codemirror_mode": {
        "name": "ipython",
        "version": 3
      },
      "file_extension": ".py",
      "mimetype": "text/x-python",
      "name": "python",
      "nbconvert_exporter": "python",
      "pygments_lexer": "ipython3",
      "version": "3.10.2"
    },
    "latex_envs": {
      "LaTeX_envs_menu_present": true,
      "autoclose": false,
      "autocomplete": true,
      "bibliofile": "biblio.bib",
      "cite_by": "apalike",
      "current_citInitial": 1,
      "eqLabelWithNumbers": true,
      "eqNumInitial": 1,
      "hotkeys": {
        "equation": "Ctrl-E",
        "itemize": "Ctrl-I"
      },
      "labels_anchors": false,
      "latex_user_defs": false,
      "report_style_numbering": false,
      "user_envs_cfg": false
    },
    "toc": {
      "base_numbering": 1,
      "nav_menu": {},
      "number_sections": true,
      "sideBar": true,
      "skip_h1_title": false,
      "title_cell": "Table of Contents",
      "title_sidebar": "Contents",
      "toc_cell": false,
      "toc_position": {},
      "toc_section_display": true,
      "toc_window_display": false
    },
    "varInspector": {
      "cols": {
        "lenName": 16,
        "lenType": 16,
        "lenVar": 40
      },
      "kernels_config": {
        "python": {
          "delete_cmd_postfix": "",
          "delete_cmd_prefix": "del ",
          "library": "var_list.py",
          "varRefreshCmd": "print(var_dic_list())"
        },
        "r": {
          "delete_cmd_postfix": ") ",
          "delete_cmd_prefix": "rm(",
          "library": "var_list.r",
          "varRefreshCmd": "cat(var_dic_list()) "
        }
      },
      "types_to_exclude": [
        "module",
        "function",
        "builtin_function_or_method",
        "instance",
        "_Feature"
      ],
      "window_display": false
    },
    "colab": {
      "name": "task2_template_Xception.ipynb",
      "provenance": [],
      "include_colab_link": true
    }
  },
  "nbformat": 4,
  "nbformat_minor": 0
}